{
  "nbformat": 4,
  "nbformat_minor": 0,
  "metadata": {
    "colab": {
      "name": "kallisto-quant.ipynb",
      "provenance": [],
      "collapsed_sections": [],
      "authorship_tag": "ABX9TyMfU7P+UQb6FBIm/6B1MHu6",
      "include_colab_link": true
    },
    "kernelspec": {
      "name": "python3",
      "display_name": "Python 3"
    },
    "language_info": {
      "name": "python"
    }
  },
  "cells": [
    {
      "cell_type": "markdown",
      "metadata": {
        "id": "view-in-github",
        "colab_type": "text"
      },
      "source": [
        "<a href=\"https://colab.research.google.com/github/taejoonlab/BloodSweatTears/blob/main/rnaseq/kallisto_quant.ipynb\" target=\"_parent\"><img src=\"https://colab.research.google.com/assets/colab-badge.svg\" alt=\"Open In Colab\"/></a>"
      ]
    },
    {
      "cell_type": "markdown",
      "source": [
        "# Gene expression quantification\n",
        "\n",
        "## Prepare the kallisto environment\n",
        "\n",
        "See https://github.com/taejoonlab/BloodSweatTears/blob/main/rnaseq/kallisto_index.ipynb \n",
        "\n",
        "We assume that your kallisto index is available on your Google Drive."
      ],
      "metadata": {
        "id": "9cpMZxkFU4mJ"
      }
    },
    {
      "cell_type": "code",
      "execution_count": 4,
      "metadata": {
        "colab": {
          "base_uri": "https://localhost:8080/"
        },
        "id": "_Tb0VpbZK5ly",
        "outputId": "da462143-f48b-44b7-eae9-a15d920fa6e3"
      },
      "outputs": [
        {
          "output_type": "stream",
          "name": "stdout",
          "text": [
            "Drive already mounted at /content/drive; to attempt to forcibly remount, call drive.mount(\"/content/drive\", force_remount=True).\n",
            "gencode.v40.transcripts.fa.gz  kallisto_linux-v0.46.1.tar.gz\n",
            "gencode_v40_tx.kallisto_idx\n"
          ]
        }
      ],
      "source": [
        "from google.colab import drive\n",
        "drive.mount('/content/drive')\n",
        "\n",
        "!ls /content/drive/MyDrive/BloodSweatTears/"
      ]
    },
    {
      "cell_type": "markdown",
      "source": [
        "Copy the kallisto index to the Google Colab space."
      ],
      "metadata": {
        "id": "dYvqqx-cVQxx"
      }
    },
    {
      "cell_type": "code",
      "source": [
        "! cp /content/drive/MyDrive/BloodSweatTears/gencode_v40_tx.kallisto_idx .\n",
        "! ls"
      ],
      "metadata": {
        "colab": {
          "base_uri": "https://localhost:8080/"
        },
        "id": "gJgQUM9hVU1K",
        "outputId": "a75f605a-1dfe-4555-e2d5-723131d88182"
      },
      "execution_count": 5,
      "outputs": [
        {
          "output_type": "stream",
          "name": "stdout",
          "text": [
            "drive\t\t\t     kallisto\t\t\t    sample_data\n",
            "gencode_v40_tx.kallisto_idx  kallisto_linux-v0.46.1.tar.gz\n"
          ]
        }
      ]
    },
    {
      "cell_type": "code",
      "source": [
        "! cp /content/drive/MyDrive/BloodSweatTears/kallisto_linux-v0.46.1.tar.gz .\n",
        "! tar xvzf kallisto_linux-v0.46.1.tar.gz"
      ],
      "metadata": {
        "colab": {
          "base_uri": "https://localhost:8080/"
        },
        "id": "XeY6mlOeViGy",
        "outputId": "76762a77-f3a5-41ba-b712-d598d1212d28"
      },
      "execution_count": 3,
      "outputs": [
        {
          "output_type": "stream",
          "name": "stdout",
          "text": [
            "kallisto/\n",
            "kallisto/test/\n",
            "kallisto/README.md\n",
            "kallisto/kallisto\n",
            "kallisto/license.txt\n",
            "kallisto/test/reads_1.fastq.gz\n",
            "kallisto/test/transcripts.fasta.gz\n",
            "kallisto/test/README.md\n",
            "kallisto/test/chrom.txt\n",
            "kallisto/test/Snakefile\n",
            "kallisto/test/reads_2.fastq.gz\n",
            "kallisto/test/transcripts.gtf.gz\n"
          ]
        }
      ]
    },
    {
      "cell_type": "markdown",
      "source": [
        "## Download the raw RNA-seq file\n",
        "\n",
        "In this example, we will analyze the blood transcriptomes of COVID-19 patients from Zhang, *et al., Front. Cell. Infect. Microbiol.* (2022) https://doi.org/10.3389/fcimb.2021.821828\n",
        "\n",
        "Raw data is available at NCBI GEO (accession number GSE189263) that you can find here: https://www.ncbi.nlm.nih.gov/geo/query/acc.cgi?acc=GSE189263\n",
        "\n",
        "To download raw FASTQ file, you can also use EBI European Nucleotide Archive(ENA) at https://www.ebi.ac.uk/ena/browser/view/PRJNA782306 (you can go there by searching for \"GSE189263\" on the page of EBI ENA https://www.ebi.ac.uk/ena/browser/home) Check \"Generated FASTQ files: FTP\" column on the table.\n"
      ],
      "metadata": {
        "id": "ZKGkOVsnVvMp"
      }
    },
    {
      "cell_type": "code",
      "source": [
        "# Download FQ1 sample\n",
        "! wget ftp://ftp.sra.ebi.ac.uk/vol1/fastq/SRR169/013/SRR16992513/SRR16992513_1.fastq.gz\n",
        "\n",
        "# Downlaod FQ2 sample\n",
        "! wget ftp://ftp.sra.ebi.ac.uk/vol1/fastq/SRR169/013/SRR16992513/SRR16992513_2.fastq.gz"
      ],
      "metadata": {
        "colab": {
          "base_uri": "https://localhost:8080/"
        },
        "id": "VKMO4YVStm2W",
        "outputId": "638a9384-f48a-41c9-b67f-a4c1a5da1645"
      },
      "execution_count": 12,
      "outputs": [
        {
          "output_type": "stream",
          "name": "stdout",
          "text": [
            "--2022-05-01 08:52:02--  ftp://ftp.sra.ebi.ac.uk/vol1/fastq/SRR169/013/SRR16992513/SRR16992513_1.fastq.gz\n",
            "           => ‘SRR16992513_1.fastq.gz’\n",
            "Resolving ftp.sra.ebi.ac.uk (ftp.sra.ebi.ac.uk)... 193.62.193.138\n",
            "Connecting to ftp.sra.ebi.ac.uk (ftp.sra.ebi.ac.uk)|193.62.193.138|:21... connected.\n",
            "Logging in as anonymous ... Logged in!\n",
            "==> SYST ... done.    ==> PWD ... done.\n",
            "==> TYPE I ... done.  ==> CWD (1) /vol1/fastq/SRR169/013/SRR16992513 ... done.\n",
            "==> SIZE SRR16992513_1.fastq.gz ... 2839073182\n",
            "==> PASV ... done.    ==> RETR SRR16992513_1.fastq.gz ... done.\n",
            "Length: 2839073182 (2.6G) (unauthoritative)\n",
            "\n",
            "SRR16992513_1.fastq 100%[===================>]   2.64G  32.1MB/s    in 3m 43s  \n",
            "\n",
            "2022-05-01 08:55:47 (12.1 MB/s) - ‘SRR16992513_1.fastq.gz’ saved [2839073182]\n",
            "\n",
            "--2022-05-01 08:55:47--  ftp://ftp.sra.ebi.ac.uk/vol1/fastq/SRR169/013/SRR16992513/SRR16992513_2.fastq.gz\n",
            "           => ‘SRR16992513_2.fastq.gz’\n",
            "Resolving ftp.sra.ebi.ac.uk (ftp.sra.ebi.ac.uk)... 193.62.193.138\n",
            "Connecting to ftp.sra.ebi.ac.uk (ftp.sra.ebi.ac.uk)|193.62.193.138|:21... connected.\n",
            "Logging in as anonymous ... Logged in!\n",
            "==> SYST ... done.    ==> PWD ... done.\n",
            "==> TYPE I ... done.  ==> CWD (1) /vol1/fastq/SRR169/013/SRR16992513 ... done.\n",
            "==> SIZE SRR16992513_2.fastq.gz ... 3011529379\n",
            "==> PASV ... done.    ==> RETR SRR16992513_2.fastq.gz ... done.\n",
            "Length: 3011529379 (2.8G) (unauthoritative)\n",
            "\n",
            "SRR16992513_2.fastq 100%[===================>]   2.80G  32.7MB/s    in 1m 44s  \n",
            "\n",
            "2022-05-01 08:57:33 (27.5 MB/s) - ‘SRR16992513_2.fastq.gz’ saved [3011529379]\n",
            "\n",
            "drive\t\t\t       SRR10355151_C1.kallisto_quant\n",
            "gencode_v40_tx.kallisto_idx    SRR10355151.fastq.gz\n",
            "kallisto\t\t       SRR10355262.fastq.gz\n",
            "kallisto_linux-v0.46.1.tar.gz  SRR16992513_1.fastq.gz\n",
            "sample_data\t\t       SRR16992513_2.fastq.gz\n"
          ]
        }
      ]
    },
    {
      "cell_type": "code",
      "source": [
        "! ls -lh"
      ],
      "metadata": {
        "colab": {
          "base_uri": "https://localhost:8080/"
        },
        "id": "E8iX1kEr19qm",
        "outputId": "8e3fec0b-c848-437a-8a2e-847d5b41e0dd"
      },
      "execution_count": 14,
      "outputs": [
        {
          "output_type": "stream",
          "name": "stdout",
          "text": [
            "total 8.6G\n",
            "drwx------ 7 root root  4.0K May  1 06:35 drive\n",
            "-rw------- 1 root root  3.2G May  1 07:51 gencode_v40_tx.kallisto_idx\n",
            "drwxr-xr-x 3  501 staff 4.0K Nov  4  2019 kallisto\n",
            "-rw------- 1 root root  7.0M May  1 06:37 kallisto_linux-v0.46.1.tar.gz\n",
            "drwxr-xr-x 1 root root  4.0K Apr 29 03:19 sample_data\n",
            "drwxr-xr-x 2 root root  4.0K May  1 08:44 SRR10355151_C1.kallisto_quant\n",
            "-rw-r--r-- 1 root root  2.7G May  1 08:55 SRR16992513_1.fastq.gz\n",
            "-rw-r--r-- 1 root root  2.9G May  1 08:57 SRR16992513_2.fastq.gz\n"
          ]
        }
      ]
    },
    {
      "cell_type": "markdown",
      "source": [
        "## Run kallisto\n",
        "\n",
        "\n",
        "For single-end RNA-seq data, you need to set the fragment_length (-l) and its deviation (-s), that you can get from the library QC data. If you do not know, typically you can set this as '-l 200 -s 30' (mean fragement length as 200 bp; standard deviation of fragment length as 30). \n",
        "\n",
        "```\n",
        "$ kallisto quant --single -l <fragment length> -s <fragment length standard deviation> -t <number of threads> -i <index name>  -o <out directory name> <FQ1>\n",
        "```\n",
        "\n",
        "For paired-end data, these values will be automatically estimated from the data\n",
        "\n",
        "```\n",
        "$ kallisto quant -t <number of threads> -i <index name>  -o <out directory name> <FQ1> <FQ2>\n",
        "```\n"
      ],
      "metadata": {
        "id": "pksNx_8hxvKg"
      }
    },
    {
      "cell_type": "code",
      "source": [
        "! ./kallisto/kallisto quant -t 1 -i gencode_v40_tx.kallisto_idx  -o SRR16992513_Healthy-3rd-4.kallisto_quant SRR16992513_1.fastq.gz SRR16992513_2.fastq.gz"
      ],
      "metadata": {
        "colab": {
          "base_uri": "https://localhost:8080/"
        },
        "id": "q8wrzKsdxtAb",
        "outputId": "b0e6a55d-0aef-404c-8e62-ef23253ac7f6"
      },
      "execution_count": 15,
      "outputs": [
        {
          "output_type": "stream",
          "name": "stdout",
          "text": [
            "\n",
            "[quant] fragment length distribution will be estimated from the data\n",
            "[index] k-mer length: 31\n",
            "[index] number of targets: 246,624\n",
            "[index] number of k-mers: 148,002,292\n",
            "tcmalloc: large alloc 6442450944 bytes == 0x21ae000 @  0x7f4249bc21e7 0x6f292d 0x6f29a9 0x4adbe9 0x4a7d60 0x44eb65 0x7f4248bdec87 0x452d59\n",
            "[index] number of equivalence classes: 1,057,791\n",
            "[quant] running in paired-end mode\n",
            "[quant] will process pair 1: SRR16992513_1.fastq.gz\n",
            "                             SRR16992513_2.fastq.gz\n",
            "[quant] finding pseudoalignments for the reads ... done\n",
            "[quant] processed 58,812,362 reads, 25,261,116 reads pseudoaligned\n",
            "[quant] estimated average fragment length: 151.84\n",
            "[   em] quantifying the abundances ... done\n",
            "[   em] the Expectation-Maximization algorithm ran for 1,090 rounds\n",
            "\n"
          ]
        }
      ]
    },
    {
      "cell_type": "code",
      "source": [
        "! head SRR16992513_Healthy-3rd-4.kallisto_quant/*tsv"
      ],
      "metadata": {
        "colab": {
          "base_uri": "https://localhost:8080/"
        },
        "id": "CLy4194Dys9v",
        "outputId": "d5d65232-ad4b-4e35-8bbf-9f81266549b6"
      },
      "execution_count": 16,
      "outputs": [
        {
          "output_type": "stream",
          "name": "stdout",
          "text": [
            "target_id\tlength\teff_length\test_counts\ttpm\n",
            "ENST00000456328.2|ENSG00000223972.5|OTTHUMG00000000961.2|OTTHUMT00000362751.1|DDX11L1-202|DDX11L1|1657|processed_transcript|\t1657\t1506.16\t30.5405\t0.51664\n",
            "ENST00000450305.2|ENSG00000223972.5|OTTHUMG00000000961.2|OTTHUMT00000002844.2|DDX11L1-201|DDX11L1|632|transcribed_unprocessed_pseudogene|\t632\t481.209\t0\t0\n",
            "ENST00000488147.1|ENSG00000227232.5|OTTHUMG00000000958.1|OTTHUMT00000002839.1|WASH7P-201|WASH7P|1351|unprocessed_pseudogene|\t1351\t1200.16\t124.093\t2.63445\n",
            "ENST00000619216.1|ENSG00000278267.1|-|-|MIR6859-1-201|MIR6859-1|68|miRNA|\t68\t17.1792\t0\t0\n",
            "ENST00000473358.1|ENSG00000243485.5|OTTHUMG00000000959.2|OTTHUMT00000002840.1|MIR1302-2HG-202|MIR1302-2HG|712|lncRNA|\t712\t561.16\t0\t0\n",
            "ENST00000469289.1|ENSG00000243485.5|OTTHUMG00000000959.2|OTTHUMT00000002841.2|MIR1302-2HG-201|MIR1302-2HG|535|lncRNA|\t535\t384.292\t0\t0\n",
            "ENST00000607096.1|ENSG00000284332.1|-|-|MIR1302-2-201|MIR1302-2|138|miRNA|\t138\t22.9325\t0\t0\n",
            "ENST00000417324.1|ENSG00000237613.2|OTTHUMG00000000960.1|OTTHUMT00000002842.1|FAM138A-201|FAM138A|1187|lncRNA|\t1187\t1036.16\t0\t0\n",
            "ENST00000461467.1|ENSG00000237613.2|OTTHUMG00000000960.1|OTTHUMT00000002843.1|FAM138A-202|FAM138A|590|lncRNA|\t590\t439.209\t13.2118\t0.766429\n"
          ]
        }
      ]
    },
    {
      "cell_type": "code",
      "source": [
        "! tar cvzpf SRR16992513_Healthy-3rd-4.kallisto_quant.tgz SRR16992513_Healthy-3rd-4.kallisto_quant/\n",
        "! cp SRR16992513_Healthy-3rd-4.kallisto_quant.tgz /content/drive/MyDrive/BloodSweatTears/"
      ],
      "metadata": {
        "colab": {
          "base_uri": "https://localhost:8080/"
        },
        "id": "-JEZf1_g7vaM",
        "outputId": "5c8343f8-5bf7-4db3-c157-afd1a7defa6e"
      },
      "execution_count": 17,
      "outputs": [
        {
          "output_type": "stream",
          "name": "stdout",
          "text": [
            "SRR16992513_Healthy-3rd-4.kallisto_quant/\n",
            "SRR16992513_Healthy-3rd-4.kallisto_quant/abundance.h5\n",
            "SRR16992513_Healthy-3rd-4.kallisto_quant/run_info.json\n",
            "SRR16992513_Healthy-3rd-4.kallisto_quant/abundance.tsv\n"
          ]
        }
      ]
    }
  ]
}