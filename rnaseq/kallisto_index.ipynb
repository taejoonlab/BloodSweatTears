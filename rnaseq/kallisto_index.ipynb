{
  "nbformat": 4,
  "nbformat_minor": 0,
  "metadata": {
    "colab": {
      "name": "kallisto-index.ipynb",
      "provenance": [],
      "collapsed_sections": [],
      "authorship_tag": "ABX9TyN0b0B0EHfGqLCnlTDjIquB",
      "include_colab_link": true
    },
    "kernelspec": {
      "name": "python3",
      "display_name": "Python 3"
    },
    "language_info": {
      "name": "python"
    }
  },
  "cells": [
    {
      "cell_type": "markdown",
      "metadata": {
        "id": "view-in-github",
        "colab_type": "text"
      },
      "source": [
        "<a href=\"https://colab.research.google.com/github/taejoonlab/BloodSweatTears/blob/main/rnaseq/kallisto_index.ipynb\" target=\"_parent\"><img src=\"https://colab.research.google.com/assets/colab-badge.svg\" alt=\"Open In Colab\"/></a>"
      ]
    },
    {
      "cell_type": "markdown",
      "source": [
        "# Introduction\n",
        "\n",
        "Kallisto is an ultra-fast pseudoalignment tool for RNA-seq quantification. \n",
        "\n",
        "Check the homepage https://pachterlab.github.io/kallisto/ for more details.\n",
        "\n",
        "Here we will make a reference index to run kallisto. There are several 'reference transcriptome databases' available, such as NCBI RefSeq and EnsEMBL. We will use the GENCODE as a reference. https://www.gencodegenes.org/human/\n"
      ],
      "metadata": {
        "id": "62YM_g3M2E3J"
      }
    },
    {
      "cell_type": "markdown",
      "source": [
        "# Set the Google Drive\n",
        "We will download files and make a reference, which we will use later also. \n",
        "Because the colab space is initialized every time (your files will be gone next time), it would be good to save them to your Goole Drive. \n",
        "\n",
        "Mount your Google Drive space as below. See more options at https://colab.research.google.com/notebooks/io.ipynb"
      ],
      "metadata": {
        "id": "zTcq4aXI3eBV"
      }
    },
    {
      "cell_type": "code",
      "source": [
        "from google.colab import drive\n",
        "drive.mount('/content/drive')"
      ],
      "metadata": {
        "colab": {
          "base_uri": "https://localhost:8080/"
        },
        "id": "bUJG_yZW4d7g",
        "outputId": "162e230e-580b-455d-fe7a-2f0d62b43d8a"
      },
      "execution_count": 3,
      "outputs": [
        {
          "output_type": "stream",
          "name": "stdout",
          "text": [
            "Mounted at /content/drive\n"
          ]
        }
      ]
    },
    {
      "cell_type": "markdown",
      "source": [
        "Move to the directory you want to use. I will use \"MyDrive/BloodSweatTears/\" here. If the directory is not available, please create it first through your Google Drive client."
      ],
      "metadata": {
        "id": "R0h6U99D4tLN"
      }
    },
    {
      "cell_type": "code",
      "source": [
        "!ls /content/drive/MyDrive/BloodSweatTears/"
      ],
      "metadata": {
        "colab": {
          "base_uri": "https://localhost:8080/"
        },
        "id": "B10hC4sf41vS",
        "outputId": "894fd253-d636-4ea7-9060-9d60158d8a25"
      },
      "execution_count": 24,
      "outputs": [
        {
          "output_type": "stream",
          "name": "stdout",
          "text": [
            "gencode.v40.transcripts.fa.gz\n"
          ]
        }
      ]
    },
    {
      "cell_type": "markdown",
      "source": [
        "# Downlaod FASTA file \n",
        "\n",
        "Download  the FASTA file for all transcripts (including the splicing variants) at https://ftp.ebi.ac.uk/pub/databases/gencode/Gencode_human/release_40/gencode.v40.transcripts.fa.gz \n",
        "\n",
        "(FYI, the link above is for human GENCODE release 40. The version number will be chnaged if you use different version. Just use the latest version on the GENCODE website.\n",
        "\n",
        "- \"!\" symbol at first means to run the following line as a terminal command. See https://colab.research.google.com/github/jakevdp/PythonDataScienceHandbook/blob/master/notebooks/01.05-IPython-And-Shell-Commands.ipynb for more details.\n",
        "- \"wget\" is a tool to download the file from the URL. It is a default utility availabe in the google colab so you do not need to install it. "
      ],
      "metadata": {
        "id": "4kaz4BoB5Y-Y"
      }
    },
    {
      "cell_type": "code",
      "execution_count": 30,
      "metadata": {
        "id": "5JRcpy0-1ouI"
      },
      "outputs": [],
      "source": [
        "! rm gencode.*fa*\n",
        "# For the first time \n",
        "# ! wget https://ftp.ebi.ac.uk/pub/databases/gencode/Gencode_human/release_40/gencode.v40.transcripts.fa.gz\n",
        "# ! cp gencode.v40.transcripts.fa.gz /content/drive/MyDrive/BloodSweatTears/\n",
        "\n",
        "# Next time\n",
        "! cp /content/drive/MyDrive/BloodSweatTears/gencode.v40.transcripts.fa.gz ."
      ]
    },
    {
      "cell_type": "markdown",
      "source": [
        "Check the downloaded file.\n",
        "\n",
        "- \"ls\" is a command to present the list of files and directories.\n",
        "- \"gunzip\" is a command to uncompress the gzip file.\n",
        "- 'head' will present the first 10 lines of a text file."
      ],
      "metadata": {
        "id": "Z-iVGB404gWW"
      }
    },
    {
      "cell_type": "code",
      "source": [
        "! ls\n",
        "! gunzip gencode.v40.transcripts.fa.gz\n",
        "! head gencode.v40.transcripts.fa\n"
      ],
      "metadata": {
        "colab": {
          "base_uri": "https://localhost:8080/"
        },
        "id": "5UT1VU-i4wTJ",
        "outputId": "70d4cea2-7e5b-4042-861c-61ddc8d5e2e6"
      },
      "execution_count": 31,
      "outputs": [
        {
          "output_type": "stream",
          "name": "stdout",
          "text": [
            "drive\t\t\t       kallisto\t\t\t      sample_data\n",
            "gencode.v40.transcripts.fa.gz  kallisto_linux-v0.46.1.tar.gz\n",
            ">ENST00000456328.2|ENSG00000223972.5|OTTHUMG00000000961.2|OTTHUMT00000362751.1|DDX11L1-202|DDX11L1|1657|processed_transcript|\n",
            "GTTAACTTGCCGTCAGCCTTTTCTTTGACCTCTTCTTTCTGTTCATGTGTATTTGCTGTC\n",
            "TCTTAGCCCAGACTTCCCGTGTCCTTTCCACCGGGCCTTTGAGAGGTCACAGGGTCTTGA\n",
            "TGCTGTGGTCTTCATCTGCAGGTGTCTGACTTCCAGCAACTGCTGGCCTGTGCCAGGGTG\n",
            "CAAGCTGAGCACTGGAGTGGAGTTTTCCTGTGGAGAGGAGCCATGCCTAGAGTGGGATGG\n",
            "GCCATTGTTCATCTTCTGGCCCCTGTTGTCTGCATGTAACTTAATACCACAACCAGGCAT\n",
            "AGGGGAAAGATTGGAGGAAAGATGAGTGAGAGCATCAACTTCTCTCACAACCTAGGCCAG\n",
            "TGTGTGGTGATGCCAGGCATGCCCTTCCCCAGCATCAGGTCTCCAGAGCTGCAGAAGACG\n",
            "ACGGCCGACTTGGATCACACTCTTGTGAGTGTCCCCAGTGTTGCAGAGGCAGGGCCATCA\n",
            "GGCACCAAAGGGATTCTGCCAGCATAGTGCTCCTGGACCAGTGATACACCCGGCACCCTG\n"
          ]
        }
      ]
    },
    {
      "cell_type": "markdown",
      "source": [
        "# Install kalllisto\n",
        "\n",
        "You can simply install kallisto by downloading it. Check the latest release version at https://pachterlab.github.io/kallisto/download .\n",
        "\n",
        "- \"tar xvzf filename.tar.gz\" is a command to untar and uncompress the file.\n",
        "\n",
        "You can run kallisto with the full path to a exacutable file. If you just run 'kallisto' it won't work. Use \"./kallisto/kallisto\" instead. If the installation is complete, you can see the kallisto usage message with this command. If so, you are ready to go. "
      ],
      "metadata": {
        "id": "3FdKhgzj5pE3"
      }
    },
    {
      "cell_type": "code",
      "source": [
        "! rm -rf kallisto*\n",
        "# ! wget https://github.com/pachterlab/kallisto/releases/download/v0.46.1/kallisto_linux-v0.46.1.tar.gz\n",
        "# ! cp kallisto_linux-v0.46.1.tar.gz /content/drive/MyDrive/BloodSweatTears/\n",
        "! cp /content/drive/MyDrive/BloodSweatTears/kallisto_linux-v0.46.1.tar.gz .\n",
        "! tar xvzf kallisto_linux-v0.46.1.tar.gz\n",
        "! ls\n",
        "! ./kallisto/kallisto"
      ],
      "metadata": {
        "colab": {
          "base_uri": "https://localhost:8080/"
        },
        "id": "d3ofGAks5uDW",
        "outputId": "e076381b-2167-463a-c94f-174d72b860cb"
      },
      "execution_count": 27,
      "outputs": [
        {
          "output_type": "stream",
          "name": "stdout",
          "text": [
            "kallisto/\n",
            "kallisto/test/\n",
            "kallisto/README.md\n",
            "kallisto/kallisto\n",
            "kallisto/license.txt\n",
            "kallisto/test/reads_1.fastq.gz\n",
            "kallisto/test/transcripts.fasta.gz\n",
            "kallisto/test/README.md\n",
            "kallisto/test/chrom.txt\n",
            "kallisto/test/Snakefile\n",
            "kallisto/test/reads_2.fastq.gz\n",
            "kallisto/test/transcripts.gtf.gz\n",
            "drive\t\t\t       kallisto\t\t\t      sample_data\n",
            "gencode.v40.transcripts.fa.gz  kallisto_linux-v0.46.1.tar.gz\n",
            "kallisto 0.46.1\n",
            "\n",
            "Usage: kallisto <CMD> [arguments] ..\n",
            "\n",
            "Where <CMD> can be one of:\n",
            "\n",
            "    index         Builds a kallisto index \n",
            "    quant         Runs the quantification algorithm \n",
            "    bus           Generate BUS files for single-cell data \n",
            "    pseudo        Runs the pseudoalignment step \n",
            "    merge         Merges several batch runs \n",
            "    h5dump        Converts HDF5-formatted results to plaintext\n",
            "    inspect       Inspects and gives information about an index\n",
            "    version       Prints version information\n",
            "    cite          Prints citation information\n",
            "\n",
            "Running kallisto <CMD> without arguments prints usage information for <CMD>\n",
            "\n"
          ]
        }
      ]
    },
    {
      "cell_type": "code",
      "source": [
        "!./kallisto/kallisto index -i gencode_v40_tx.kallisto_idx gencode.v40.transcripts.fa "
      ],
      "metadata": {
        "colab": {
          "base_uri": "https://localhost:8080/"
        },
        "id": "M-TLBp-H9A2a",
        "outputId": "04a3d1cc-aecd-45ca-8955-605198f2cd1a"
      },
      "execution_count": 32,
      "outputs": [
        {
          "output_type": "stream",
          "name": "stdout",
          "text": [
            "\n",
            "[build] loading fasta file gencode.v40.transcripts.fa\n",
            "[build] k-mer length: 31\n",
            "[build] warning: clipped off poly-A tail (longer than 10)\n",
            "        from 1961 target sequences\n",
            "[build] warning: replaced 4 non-ACGUT characters in the input sequence\n",
            "        with pseudorandom nucleotides\n",
            "[build] counting k-mers ... tcmalloc: large alloc 1610612736 bytes == 0x84a4c000 @  0x7ff29295c1e7 0x6f292d 0x6f29a9 0x4adbe9 0x4a5db8 0x4acf59 0x44e0c2 0x7ff291978c87 0x452d59\n",
            "tcmalloc: large alloc 3221225472 bytes == 0xe4a4c000 @  0x7ff29295c1e7 0x6f292d 0x6f29a9 0x4adbe9 0x4a5db8 0x4acf59 0x44e0c2 0x7ff291978c87 0x452d59\n",
            "tcmalloc: large alloc 6442450944 bytes == 0x1a527e000 @  0x7ff29295c1e7 0x6f292d 0x6f29a9 0x4adbe9 0x4a5db8 0x4acf59 0x44e0c2 0x7ff291978c87 0x452d59\n",
            "done.\n",
            "[build] building target de Bruijn graph ...  done \n",
            "[build] creating equivalence classes ...  done\n",
            "[build] target de Bruijn graph has 1592242 contigs and contains 148002292 k-mers \n",
            "\n"
          ]
        }
      ]
    },
    {
      "cell_type": "code",
      "source": [
        "! ls -lh\n",
        "! cp gencode_v40_tx.kallisto_idx /content/drive/MyDrive/BloodSweatTears/"
      ],
      "metadata": {
        "colab": {
          "base_uri": "https://localhost:8080/"
        },
        "id": "gS8jZkstDGC2",
        "outputId": "29088b87-b2c9-497d-a738-0a8ba90331e2"
      },
      "execution_count": 33,
      "outputs": [
        {
          "output_type": "stream",
          "name": "stdout",
          "text": [
            "total 3.6G\n",
            "drwx------ 7 root root  4.0K Apr 29 01:14 drive\n",
            "-rw------- 1 root root  433M Apr 29 01:44 gencode.v40.transcripts.fa\n",
            "-rw-r--r-- 1 root root  3.2G Apr 29 01:55 gencode_v40_tx.kallisto_idx\n",
            "drwxr-xr-x 3  501 staff 4.0K Nov  4  2019 kallisto\n",
            "-rw------- 1 root root  7.0M Apr 29 01:42 kallisto_linux-v0.46.1.tar.gz\n",
            "drwxr-xr-x 1 root root  4.0K Apr 25 13:46 sample_data\n"
          ]
        }
      ]
    }
  ]
}