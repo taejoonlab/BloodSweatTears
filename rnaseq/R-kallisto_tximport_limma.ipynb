{
  "nbformat": 4,
  "nbformat_minor": 0,
  "metadata": {
    "colab": {
      "name": "tximport-kallisto-limma.ipynb",
      "provenance": [],
      "collapsed_sections": [],
      "authorship_tag": "ABX9TyNjPWD8nBECCuhw/gWTtfk6",
      "include_colab_link": true
    },
    "kernelspec": {
      "name": "ir",
      "display_name": "R"
    },
    "language_info": {
      "name": "R"
    }
  },
  "cells": [
    {
      "cell_type": "markdown",
      "metadata": {
        "id": "view-in-github",
        "colab_type": "text"
      },
      "source": [
        "<a href=\"https://colab.research.google.com/github/taejoonlab/BloodSweatTears/blob/main/rnaseq/R-kallisto_tximport_limma.ipynb\" target=\"_parent\"><img src=\"https://colab.research.google.com/assets/colab-badge.svg\" alt=\"Open In Colab\"/></a>"
      ]
    },
    {
      "cell_type": "markdown",
      "source": [
        "# DEG analysis of kallisto TPMs with limma\n",
        "\n",
        "## Set up R in Google Colab\n",
        "You can activate R in Google Colab by starting it with the following URL:\n",
        "* https://colab.research.google.com/notebook#create=true&language=r \n",
        "* Or https://colab.to/r\n",
        "\n",
        "Check out this webpage for more details. https://towardsdatascience.com/how-to-use-r-in-google-colab-b6e02d736497 "
      ],
      "metadata": {
        "id": "3NgbioSmNDZm"
      }
    },
    {
      "cell_type": "code",
      "source": [
        "# Check the R version\n",
        "package_version(R.version)"
      ],
      "metadata": {
        "colab": {
          "base_uri": "https://localhost:8080/",
          "height": 36
        },
        "id": "rXdiFH3cORjH",
        "outputId": "b71695bd-98eb-4f3a-dfd5-c14c8e4454f4"
      },
      "execution_count": 1,
      "outputs": [
        {
          "output_type": "display_data",
          "data": {
            "text/plain": [
              "[1] ‘4.2.0’"
            ]
          },
          "metadata": {}
        }
      ]
    },
    {
      "cell_type": "markdown",
      "source": [
        "## Install R packages"
      ],
      "metadata": {
        "id": "JI9zNpr0Ng4Q"
      }
    },
    {
      "cell_type": "code",
      "source": [
        "if (!require(readr)) install.packages('readr')\n",
        "library(readr)\n",
        "\n",
        "if (!require(ggplot2)) install.packages('ggplot2')\n",
        "library(ggplot2)\n",
        "\n",
        "if (!require(psych)) install.packages('psych')\n",
        "library(psych)"
      ],
      "metadata": {
        "id": "n0A3IzkNNndx",
        "colab": {
          "base_uri": "https://localhost:8080/"
        },
        "outputId": "8d814356-2fc0-4aa1-8e94-be87da2921be"
      },
      "execution_count": 2,
      "outputs": [
        {
          "output_type": "stream",
          "name": "stderr",
          "text": [
            "Loading required package: readr\n",
            "\n",
            "Loading required package: ggplot2\n",
            "\n",
            "Loading required package: psych\n",
            "\n",
            "\n",
            "Attaching package: ‘psych’\n",
            "\n",
            "\n",
            "The following objects are masked from ‘package:ggplot2’:\n",
            "\n",
            "    %+%, alpha\n",
            "\n",
            "\n"
          ]
        }
      ]
    },
    {
      "cell_type": "markdown",
      "source": [
        "## Install Bioconductor package"
      ],
      "metadata": {
        "id": "rzc2jQOsO0SH"
      }
    },
    {
      "cell_type": "code",
      "source": [
        "## for bioconductor package maintenance\n",
        "if (!require(\"BiocManager\", quietly = TRUE))\n",
        "    install.packages(\"BiocManager\")\n",
        "\n",
        "## tximport: to import expression data\n",
        "if (!require(\"tximport\")) BiocManager::install(\"tximport\")\n",
        "library(tximport)\n",
        "\n",
        "## edger: for DEGList function\n",
        "if (!require(\"edgeR\")) BiocManager::install(\"edgeR\")\n",
        "library(edgeR)\n",
        "\n",
        "## limma: for DEG analysis\n",
        "if (!require(\"limma\")) BiocManager::install(\"limma\")\n",
        "library(limma)"
      ],
      "metadata": {
        "colab": {
          "base_uri": "https://localhost:8080/"
        },
        "id": "yFYe-lj9O310",
        "outputId": "a9075555-4b02-4247-fac7-c512d0293ec7"
      },
      "execution_count": 3,
      "outputs": [
        {
          "output_type": "stream",
          "name": "stderr",
          "text": [
            "Loading required package: tximport\n",
            "\n",
            "Loading required package: edgeR\n",
            "\n",
            "Loading required package: limma\n",
            "\n"
          ]
        }
      ]
    },
    {
      "cell_type": "code",
      "source": [
        "sessionInfo()"
      ],
      "metadata": {
        "colab": {
          "base_uri": "https://localhost:8080/",
          "height": 708
        },
        "id": "NYbUzkmpPNc3",
        "outputId": "9d09718e-de7e-4778-bf8b-7d27dca12b85"
      },
      "execution_count": 4,
      "outputs": [
        {
          "output_type": "display_data",
          "data": {
            "text/plain": [
              "R version 4.2.0 (2022-04-22)\n",
              "Platform: x86_64-pc-linux-gnu (64-bit)\n",
              "Running under: Ubuntu 18.04.5 LTS\n",
              "\n",
              "Matrix products: default\n",
              "BLAS:   /usr/lib/x86_64-linux-gnu/openblas/libblas.so.3\n",
              "LAPACK: /usr/lib/x86_64-linux-gnu/libopenblasp-r0.2.20.so\n",
              "\n",
              "locale:\n",
              " [1] LC_CTYPE=en_US.UTF-8       LC_NUMERIC=C              \n",
              " [3] LC_TIME=en_US.UTF-8        LC_COLLATE=en_US.UTF-8    \n",
              " [5] LC_MONETARY=en_US.UTF-8    LC_MESSAGES=en_US.UTF-8   \n",
              " [7] LC_PAPER=en_US.UTF-8       LC_NAME=C                 \n",
              " [9] LC_ADDRESS=C               LC_TELEPHONE=C            \n",
              "[11] LC_MEASUREMENT=en_US.UTF-8 LC_IDENTIFICATION=C       \n",
              "\n",
              "attached base packages:\n",
              "[1] stats     graphics  grDevices utils     datasets  methods   base     \n",
              "\n",
              "other attached packages:\n",
              "[1] edgeR_3.38.1        limma_3.52.1        tximport_1.24.0    \n",
              "[4] BiocManager_1.30.18 psych_2.2.5         ggplot2_3.3.6      \n",
              "[7] readr_2.1.2        \n",
              "\n",
              "loaded via a namespace (and not attached):\n",
              " [1] Rcpp_1.0.8.3     pillar_1.7.0     compiler_4.2.0   base64enc_0.1-3 \n",
              " [5] tools_4.2.0      digest_0.6.29    uuid_1.1-0       nlme_3.1-157    \n",
              " [9] lattice_0.20-45  jsonlite_1.8.0   evaluate_0.15    lifecycle_1.0.1 \n",
              "[13] tibble_3.1.7     gtable_0.3.0     pkgconfig_2.0.3  rlang_1.0.2     \n",
              "[17] DBI_1.1.2        IRdisplay_1.1    cli_3.3.0        parallel_4.2.0  \n",
              "[21] IRkernel_1.3     fastmap_1.1.0    withr_2.5.0      repr_1.1.4      \n",
              "[25] dplyr_1.0.9      generics_0.1.2   vctrs_0.4.1      hms_1.1.1       \n",
              "[29] locfit_1.5-9.5   grid_4.2.0       tidyselect_1.1.2 glue_1.6.2      \n",
              "[33] R6_2.5.1         fansi_1.0.3      pbdZMQ_0.3-7     tzdb_0.3.0      \n",
              "[37] purrr_0.3.4      magrittr_2.0.3   scales_1.2.0     ellipsis_0.3.2  \n",
              "[41] htmltools_0.5.2  mnormt_2.0.2     assertthat_0.2.1 colorspace_2.0-3\n",
              "[45] utf8_1.2.2       munsell_0.5.0    tmvnsim_1.0-2    crayon_1.5.1    "
            ]
          },
          "metadata": {}
        }
      ]
    },
    {
      "cell_type": "markdown",
      "source": [
        "## Download a tx2gene file & load it.\n",
        "\n",
        "This file contains the table for a transcript-gene relationship. This file is used to perform a gene-level expression analysis (merging the expression of all transcripts into a gene) For GENCODE primary transcript file, you can download a pre-made version from the GitHub repo: https://github.com/taejoonlab/BloodSweatTears/blob/main/db/gencode.v40.transcripts.fa.gz.tx2gene\n",
        "\n",
        "This file looks like below (first column should be matched to the header of FASTA file you used as a reference):\n",
        "```\n",
        "ENST00000456328.2|ENSG00000223972.5|OTTHUMG00000000961.2|OTTHUMT00000362751.1|DDX11L1-202|DDX11L1|1657|processed_transcript|    DDX11L1\n",
        "ENST00000450305.2|ENSG00000223972.5|OTTHUMG00000000961.2|OTTHUMT00000002844.2|DDX11L1-201|DDX11L1|632|transcribed_unprocessed_pseudogene|       DDX11L1\n",
        "ENST00000488147.1|ENSG00000227232.5|OTTHUMG00000000958.1|OTTHUMT00000002839.1|WASH7P-201|WASH7P|1351|unprocessed_pseudogene|    WASH7P\n",
        "```\n",
        "\n",
        "You can simply create this file from the downloaded, gzipped FASTA file using the following script: https://github.com/taejoonlab/BloodSweatTears/blob/main/db/fa_gz-to-tx2gene.sh\n",
        "\n"
      ],
      "metadata": {
        "id": "3sjvqPN1NxYs"
      }
    },
    {
      "cell_type": "code",
      "execution_count": 6,
      "metadata": {
        "id": "lK-zpDDmM5pr"
      },
      "outputs": [],
      "source": [
        "filename_tx2gene <- './gencode.v40.transcripts.fa.gz.tx2gene'\n",
        "download.file(\"https://github.com/taejoonlab/BloodSweatTears/blob/main/db/gencode.v40.transcripts.fa.gz.tx2gene?raw=true\", filename_tx2gene)"
      ]
    },
    {
      "cell_type": "code",
      "source": [
        "list.files()"
      ],
      "metadata": {
        "colab": {
          "base_uri": "https://localhost:8080/",
          "height": 173
        },
        "id": "NLBoiHiHM__7",
        "outputId": "cccf236a-aee7-439e-9a77-0f6dff60644b"
      },
      "execution_count": 7,
      "outputs": [
        {
          "output_type": "display_data",
          "data": {
            "text/html": [
              "<style>\n",
              ".list-inline {list-style: none; margin:0; padding: 0}\n",
              ".list-inline>li {display: inline-block}\n",
              ".list-inline>li:not(:last-child)::after {content: \"\\00b7\"; padding: 0 .5ex}\n",
              "</style>\n",
              "<ol class=list-inline><li>'blood.PRJNA782396_Zhang2022_covid19.conf.txt'</li><li>'gencode.v40.transcripts.fa.gz.tx2gene'</li><li>'sample_data'</li><li>'SRR16992513.gencode_v40_tx.kallisto_quant.abundance.tsv'</li><li>'SRR16992514.gencode_v40_tx.kallisto_quant.abundance.tsv'</li><li>'SRR16992515.gencode_v40_tx.kallisto_quant.abundance.tsv'</li><li>'SRR16992516.gencode_v40_tx.kallisto_quant.abundance.tsv'</li><li>'SRR16992517.gencode_v40_tx.kallisto_quant.abundance.tsv'</li><li>'SRR16992518.gencode_v40_tx.kallisto_quant.abundance.tsv'</li><li>'SRR16992519.gencode_v40_tx.kallisto_quant.abundance.tsv'</li><li>'SRR16992520.gencode_v40_tx.kallisto_quant.abundance.tsv'</li><li>'SRR16992521.gencode_v40_tx.kallisto_quant.abundance.tsv'</li><li>'SRR16992522.gencode_v40_tx.kallisto_quant.abundance.tsv'</li><li>'SRR16992523.gencode_v40_tx.kallisto_quant.abundance.tsv'</li><li>'SRR16992524.gencode_v40_tx.kallisto_quant.abundance.tsv'</li><li>'SRR16992525.gencode_v40_tx.kallisto_quant.abundance.tsv'</li><li>'SRR16992526.gencode_v40_tx.kallisto_quant.abundance.tsv'</li><li>'SRR16992527.gencode_v40_tx.kallisto_quant.abundance.tsv'</li><li>'SRR16992528.gencode_v40_tx.kallisto_quant.abundance.tsv'</li><li>'SRR16992529.gencode_v40_tx.kallisto_quant.abundance.tsv'</li><li>'SRR16992530.gencode_v40_tx.kallisto_quant.abundance.tsv'</li><li>'SRR16992531.gencode_v40_tx.kallisto_quant.abundance.tsv'</li><li>'SRR16992532.gencode_v40_tx.kallisto_quant.abundance.tsv'</li><li>'SRR16992533.gencode_v40_tx.kallisto_quant.abundance.tsv'</li><li>'SRR16992534.gencode_v40_tx.kallisto_quant.abundance.tsv'</li><li>'SRR16992535.gencode_v40_tx.kallisto_quant.abundance.tsv'</li><li>'SRR16992536.gencode_v40_tx.kallisto_quant.abundance.tsv'</li><li>'SRR16992537.gencode_v40_tx.kallisto_quant.abundance.tsv'</li></ol>\n"
            ],
            "text/markdown": "1. 'blood.PRJNA782396_Zhang2022_covid19.conf.txt'\n2. 'gencode.v40.transcripts.fa.gz.tx2gene'\n3. 'sample_data'\n4. 'SRR16992513.gencode_v40_tx.kallisto_quant.abundance.tsv'\n5. 'SRR16992514.gencode_v40_tx.kallisto_quant.abundance.tsv'\n6. 'SRR16992515.gencode_v40_tx.kallisto_quant.abundance.tsv'\n7. 'SRR16992516.gencode_v40_tx.kallisto_quant.abundance.tsv'\n8. 'SRR16992517.gencode_v40_tx.kallisto_quant.abundance.tsv'\n9. 'SRR16992518.gencode_v40_tx.kallisto_quant.abundance.tsv'\n10. 'SRR16992519.gencode_v40_tx.kallisto_quant.abundance.tsv'\n11. 'SRR16992520.gencode_v40_tx.kallisto_quant.abundance.tsv'\n12. 'SRR16992521.gencode_v40_tx.kallisto_quant.abundance.tsv'\n13. 'SRR16992522.gencode_v40_tx.kallisto_quant.abundance.tsv'\n14. 'SRR16992523.gencode_v40_tx.kallisto_quant.abundance.tsv'\n15. 'SRR16992524.gencode_v40_tx.kallisto_quant.abundance.tsv'\n16. 'SRR16992525.gencode_v40_tx.kallisto_quant.abundance.tsv'\n17. 'SRR16992526.gencode_v40_tx.kallisto_quant.abundance.tsv'\n18. 'SRR16992527.gencode_v40_tx.kallisto_quant.abundance.tsv'\n19. 'SRR16992528.gencode_v40_tx.kallisto_quant.abundance.tsv'\n20. 'SRR16992529.gencode_v40_tx.kallisto_quant.abundance.tsv'\n21. 'SRR16992530.gencode_v40_tx.kallisto_quant.abundance.tsv'\n22. 'SRR16992531.gencode_v40_tx.kallisto_quant.abundance.tsv'\n23. 'SRR16992532.gencode_v40_tx.kallisto_quant.abundance.tsv'\n24. 'SRR16992533.gencode_v40_tx.kallisto_quant.abundance.tsv'\n25. 'SRR16992534.gencode_v40_tx.kallisto_quant.abundance.tsv'\n26. 'SRR16992535.gencode_v40_tx.kallisto_quant.abundance.tsv'\n27. 'SRR16992536.gencode_v40_tx.kallisto_quant.abundance.tsv'\n28. 'SRR16992537.gencode_v40_tx.kallisto_quant.abundance.tsv'\n\n\n",
            "text/latex": "\\begin{enumerate*}\n\\item 'blood.PRJNA782396\\_Zhang2022\\_covid19.conf.txt'\n\\item 'gencode.v40.transcripts.fa.gz.tx2gene'\n\\item 'sample\\_data'\n\\item 'SRR16992513.gencode\\_v40\\_tx.kallisto\\_quant.abundance.tsv'\n\\item 'SRR16992514.gencode\\_v40\\_tx.kallisto\\_quant.abundance.tsv'\n\\item 'SRR16992515.gencode\\_v40\\_tx.kallisto\\_quant.abundance.tsv'\n\\item 'SRR16992516.gencode\\_v40\\_tx.kallisto\\_quant.abundance.tsv'\n\\item 'SRR16992517.gencode\\_v40\\_tx.kallisto\\_quant.abundance.tsv'\n\\item 'SRR16992518.gencode\\_v40\\_tx.kallisto\\_quant.abundance.tsv'\n\\item 'SRR16992519.gencode\\_v40\\_tx.kallisto\\_quant.abundance.tsv'\n\\item 'SRR16992520.gencode\\_v40\\_tx.kallisto\\_quant.abundance.tsv'\n\\item 'SRR16992521.gencode\\_v40\\_tx.kallisto\\_quant.abundance.tsv'\n\\item 'SRR16992522.gencode\\_v40\\_tx.kallisto\\_quant.abundance.tsv'\n\\item 'SRR16992523.gencode\\_v40\\_tx.kallisto\\_quant.abundance.tsv'\n\\item 'SRR16992524.gencode\\_v40\\_tx.kallisto\\_quant.abundance.tsv'\n\\item 'SRR16992525.gencode\\_v40\\_tx.kallisto\\_quant.abundance.tsv'\n\\item 'SRR16992526.gencode\\_v40\\_tx.kallisto\\_quant.abundance.tsv'\n\\item 'SRR16992527.gencode\\_v40\\_tx.kallisto\\_quant.abundance.tsv'\n\\item 'SRR16992528.gencode\\_v40\\_tx.kallisto\\_quant.abundance.tsv'\n\\item 'SRR16992529.gencode\\_v40\\_tx.kallisto\\_quant.abundance.tsv'\n\\item 'SRR16992530.gencode\\_v40\\_tx.kallisto\\_quant.abundance.tsv'\n\\item 'SRR16992531.gencode\\_v40\\_tx.kallisto\\_quant.abundance.tsv'\n\\item 'SRR16992532.gencode\\_v40\\_tx.kallisto\\_quant.abundance.tsv'\n\\item 'SRR16992533.gencode\\_v40\\_tx.kallisto\\_quant.abundance.tsv'\n\\item 'SRR16992534.gencode\\_v40\\_tx.kallisto\\_quant.abundance.tsv'\n\\item 'SRR16992535.gencode\\_v40\\_tx.kallisto\\_quant.abundance.tsv'\n\\item 'SRR16992536.gencode\\_v40\\_tx.kallisto\\_quant.abundance.tsv'\n\\item 'SRR16992537.gencode\\_v40\\_tx.kallisto\\_quant.abundance.tsv'\n\\end{enumerate*}\n",
            "text/plain": [
              " [1] \"blood.PRJNA782396_Zhang2022_covid19.conf.txt\"           \n",
              " [2] \"gencode.v40.transcripts.fa.gz.tx2gene\"                  \n",
              " [3] \"sample_data\"                                            \n",
              " [4] \"SRR16992513.gencode_v40_tx.kallisto_quant.abundance.tsv\"\n",
              " [5] \"SRR16992514.gencode_v40_tx.kallisto_quant.abundance.tsv\"\n",
              " [6] \"SRR16992515.gencode_v40_tx.kallisto_quant.abundance.tsv\"\n",
              " [7] \"SRR16992516.gencode_v40_tx.kallisto_quant.abundance.tsv\"\n",
              " [8] \"SRR16992517.gencode_v40_tx.kallisto_quant.abundance.tsv\"\n",
              " [9] \"SRR16992518.gencode_v40_tx.kallisto_quant.abundance.tsv\"\n",
              "[10] \"SRR16992519.gencode_v40_tx.kallisto_quant.abundance.tsv\"\n",
              "[11] \"SRR16992520.gencode_v40_tx.kallisto_quant.abundance.tsv\"\n",
              "[12] \"SRR16992521.gencode_v40_tx.kallisto_quant.abundance.tsv\"\n",
              "[13] \"SRR16992522.gencode_v40_tx.kallisto_quant.abundance.tsv\"\n",
              "[14] \"SRR16992523.gencode_v40_tx.kallisto_quant.abundance.tsv\"\n",
              "[15] \"SRR16992524.gencode_v40_tx.kallisto_quant.abundance.tsv\"\n",
              "[16] \"SRR16992525.gencode_v40_tx.kallisto_quant.abundance.tsv\"\n",
              "[17] \"SRR16992526.gencode_v40_tx.kallisto_quant.abundance.tsv\"\n",
              "[18] \"SRR16992527.gencode_v40_tx.kallisto_quant.abundance.tsv\"\n",
              "[19] \"SRR16992528.gencode_v40_tx.kallisto_quant.abundance.tsv\"\n",
              "[20] \"SRR16992529.gencode_v40_tx.kallisto_quant.abundance.tsv\"\n",
              "[21] \"SRR16992530.gencode_v40_tx.kallisto_quant.abundance.tsv\"\n",
              "[22] \"SRR16992531.gencode_v40_tx.kallisto_quant.abundance.tsv\"\n",
              "[23] \"SRR16992532.gencode_v40_tx.kallisto_quant.abundance.tsv\"\n",
              "[24] \"SRR16992533.gencode_v40_tx.kallisto_quant.abundance.tsv\"\n",
              "[25] \"SRR16992534.gencode_v40_tx.kallisto_quant.abundance.tsv\"\n",
              "[26] \"SRR16992535.gencode_v40_tx.kallisto_quant.abundance.tsv\"\n",
              "[27] \"SRR16992536.gencode_v40_tx.kallisto_quant.abundance.tsv\"\n",
              "[28] \"SRR16992537.gencode_v40_tx.kallisto_quant.abundance.tsv\""
            ]
          },
          "metadata": {}
        }
      ]
    },
    {
      "cell_type": "code",
      "source": [
        "tx2gene <- read_tsv(filename_tx2gene, col_names=FALSE)\n",
        "colnames(tx2gene) <- c('txName', 'geneName')\n",
        "head(tx2gene)"
      ],
      "metadata": {
        "colab": {
          "base_uri": "https://localhost:8080/",
          "height": 417
        },
        "id": "n9ax9lKH3roi",
        "outputId": "292f7c79-6c0d-45ac-85a4-50f4c7ec83d4"
      },
      "execution_count": 8,
      "outputs": [
        {
          "output_type": "stream",
          "name": "stderr",
          "text": [
            "\u001b[1mRows: \u001b[22m\u001b[34m246624\u001b[39m \u001b[1mColumns: \u001b[22m\u001b[34m2\u001b[39m\n",
            "\u001b[36m──\u001b[39m \u001b[1mColumn specification\u001b[22m \u001b[36m────────────────────────────────────────────────────────\u001b[39m\n",
            "\u001b[1mDelimiter:\u001b[22m \"\\t\"\n",
            "\u001b[31mchr\u001b[39m (2): X1, X2\n",
            "\n",
            "\u001b[36mℹ\u001b[39m Use `spec()` to retrieve the full column specification for this data.\n",
            "\u001b[36mℹ\u001b[39m Specify the column types or set `show_col_types = FALSE` to quiet this message.\n"
          ]
        },
        {
          "output_type": "display_data",
          "data": {
            "text/html": [
              "<table class=\"dataframe\">\n",
              "<caption>A tibble: 6 × 2</caption>\n",
              "<thead>\n",
              "\t<tr><th scope=col>txName</th><th scope=col>geneName</th></tr>\n",
              "\t<tr><th scope=col>&lt;chr&gt;</th><th scope=col>&lt;chr&gt;</th></tr>\n",
              "</thead>\n",
              "<tbody>\n",
              "\t<tr><td>ENST00000456328.2|ENSG00000223972.5|OTTHUMG00000000961.2|OTTHUMT00000362751.1|DDX11L1-202|DDX11L1|1657|processed_transcript|             </td><td>DDX11L1    </td></tr>\n",
              "\t<tr><td>ENST00000450305.2|ENSG00000223972.5|OTTHUMG00000000961.2|OTTHUMT00000002844.2|DDX11L1-201|DDX11L1|632|transcribed_unprocessed_pseudogene|</td><td>DDX11L1    </td></tr>\n",
              "\t<tr><td>ENST00000488147.1|ENSG00000227232.5|OTTHUMG00000000958.1|OTTHUMT00000002839.1|WASH7P-201|WASH7P|1351|unprocessed_pseudogene|             </td><td>WASH7P     </td></tr>\n",
              "\t<tr><td>ENST00000619216.1|ENSG00000278267.1|-|-|MIR6859-1-201|MIR6859-1|68|miRNA|                                                                </td><td>MIR6859-1  </td></tr>\n",
              "\t<tr><td>ENST00000473358.1|ENSG00000243485.5|OTTHUMG00000000959.2|OTTHUMT00000002840.1|MIR1302-2HG-202|MIR1302-2HG|712|lncRNA|                    </td><td>MIR1302-2HG</td></tr>\n",
              "\t<tr><td>ENST00000469289.1|ENSG00000243485.5|OTTHUMG00000000959.2|OTTHUMT00000002841.2|MIR1302-2HG-201|MIR1302-2HG|535|lncRNA|                    </td><td>MIR1302-2HG</td></tr>\n",
              "</tbody>\n",
              "</table>\n"
            ],
            "text/markdown": "\nA tibble: 6 × 2\n\n| txName &lt;chr&gt; | geneName &lt;chr&gt; |\n|---|---|\n| ENST00000456328.2|ENSG00000223972.5|OTTHUMG00000000961.2|OTTHUMT00000362751.1|DDX11L1-202|DDX11L1|1657|processed_transcript|              | DDX11L1     |\n| ENST00000450305.2|ENSG00000223972.5|OTTHUMG00000000961.2|OTTHUMT00000002844.2|DDX11L1-201|DDX11L1|632|transcribed_unprocessed_pseudogene| | DDX11L1     |\n| ENST00000488147.1|ENSG00000227232.5|OTTHUMG00000000958.1|OTTHUMT00000002839.1|WASH7P-201|WASH7P|1351|unprocessed_pseudogene|              | WASH7P      |\n| ENST00000619216.1|ENSG00000278267.1|-|-|MIR6859-1-201|MIR6859-1|68|miRNA|                                                                 | MIR6859-1   |\n| ENST00000473358.1|ENSG00000243485.5|OTTHUMG00000000959.2|OTTHUMT00000002840.1|MIR1302-2HG-202|MIR1302-2HG|712|lncRNA|                     | MIR1302-2HG |\n| ENST00000469289.1|ENSG00000243485.5|OTTHUMG00000000959.2|OTTHUMT00000002841.2|MIR1302-2HG-201|MIR1302-2HG|535|lncRNA|                     | MIR1302-2HG |\n\n",
            "text/latex": "A tibble: 6 × 2\n\\begin{tabular}{ll}\n txName & geneName\\\\\n <chr> & <chr>\\\\\n\\hline\n\t ENST00000456328.2\\textbar{}ENSG00000223972.5\\textbar{}OTTHUMG00000000961.2\\textbar{}OTTHUMT00000362751.1\\textbar{}DDX11L1-202\\textbar{}DDX11L1\\textbar{}1657\\textbar{}processed\\_transcript\\textbar{}              & DDX11L1    \\\\\n\t ENST00000450305.2\\textbar{}ENSG00000223972.5\\textbar{}OTTHUMG00000000961.2\\textbar{}OTTHUMT00000002844.2\\textbar{}DDX11L1-201\\textbar{}DDX11L1\\textbar{}632\\textbar{}transcribed\\_unprocessed\\_pseudogene\\textbar{} & DDX11L1    \\\\\n\t ENST00000488147.1\\textbar{}ENSG00000227232.5\\textbar{}OTTHUMG00000000958.1\\textbar{}OTTHUMT00000002839.1\\textbar{}WASH7P-201\\textbar{}WASH7P\\textbar{}1351\\textbar{}unprocessed\\_pseudogene\\textbar{}              & WASH7P     \\\\\n\t ENST00000619216.1\\textbar{}ENSG00000278267.1\\textbar{}-\\textbar{}-\\textbar{}MIR6859-1-201\\textbar{}MIR6859-1\\textbar{}68\\textbar{}miRNA\\textbar{}                                                                 & MIR6859-1  \\\\\n\t ENST00000473358.1\\textbar{}ENSG00000243485.5\\textbar{}OTTHUMG00000000959.2\\textbar{}OTTHUMT00000002840.1\\textbar{}MIR1302-2HG-202\\textbar{}MIR1302-2HG\\textbar{}712\\textbar{}lncRNA\\textbar{}                     & MIR1302-2HG\\\\\n\t ENST00000469289.1\\textbar{}ENSG00000243485.5\\textbar{}OTTHUMG00000000959.2\\textbar{}OTTHUMT00000002841.2\\textbar{}MIR1302-2HG-201\\textbar{}MIR1302-2HG\\textbar{}535\\textbar{}lncRNA\\textbar{}                     & MIR1302-2HG\\\\\n\\end{tabular}\n",
            "text/plain": [
              "  txName                                                                                                                                   \n",
              "1 ENST00000456328.2|ENSG00000223972.5|OTTHUMG00000000961.2|OTTHUMT00000362751.1|DDX11L1-202|DDX11L1|1657|processed_transcript|             \n",
              "2 ENST00000450305.2|ENSG00000223972.5|OTTHUMG00000000961.2|OTTHUMT00000002844.2|DDX11L1-201|DDX11L1|632|transcribed_unprocessed_pseudogene|\n",
              "3 ENST00000488147.1|ENSG00000227232.5|OTTHUMG00000000958.1|OTTHUMT00000002839.1|WASH7P-201|WASH7P|1351|unprocessed_pseudogene|             \n",
              "4 ENST00000619216.1|ENSG00000278267.1|-|-|MIR6859-1-201|MIR6859-1|68|miRNA|                                                                \n",
              "5 ENST00000473358.1|ENSG00000243485.5|OTTHUMG00000000959.2|OTTHUMT00000002840.1|MIR1302-2HG-202|MIR1302-2HG|712|lncRNA|                    \n",
              "6 ENST00000469289.1|ENSG00000243485.5|OTTHUMG00000000959.2|OTTHUMT00000002841.2|MIR1302-2HG-201|MIR1302-2HG|535|lncRNA|                    \n",
              "  geneName   \n",
              "1 DDX11L1    \n",
              "2 DDX11L1    \n",
              "3 WASH7P     \n",
              "4 MIR6859-1  \n",
              "5 MIR1302-2HG\n",
              "6 MIR1302-2HG"
            ]
          },
          "metadata": {}
        }
      ]
    },
    {
      "cell_type": "markdown",
      "source": [
        "## Upload kallisto output and a config file\n",
        "\n",
        "A config file contains the information of filename, group_name, and sample_name. Following example is about four replicated samples (Vaccine3-1 to Vaccine3-4) in the same group (Vaccine3).\n",
        "```\n",
        "Filename\tSampleName\tGroupName\n",
        "SRR16992513.gencode_v40_tx.kallisto_quant/abundance.tsv\tVaccine3-4\tVaccine3\n",
        "SRR16992514.gencode_v40_tx.kallisto_quant/abundance.tsv\tVaccine3-3\tVaccine3\n",
        "SRR16992515.gencode_v40_tx.kallisto_quant/abundance.tsv\tVaccine3-2\tVaccine3\n",
        "SRR16992516.gencode_v40_tx.kallisto_quant/abundance.tsv\tVaccine3-1\tVaccine3\n",
        "```\n",
        "You can find the full list of PRJNA782396 files at the following link. \n",
        "https://pub.taejoonlab.org/BloodSweatTears/blood.PRJNA782396_Zhang2022_covid19/blood.PRJNA782396_Zhang2022_covid19.conf.txt\n",
        "\n",
        "Also, I renamed a kallisto TSV files with the folder as below:\n",
        "```\n",
        "original: my_data/abundance.tsv\n",
        "renamed:  my_data.abundance.tsv\n",
        "```\n",
        "\n",
        "In contrast to python, it is quite challenging to access the Google Drive. So I recommend to upload kallisto tsv files and \"a config fie\" through your browser. You can drag and drop to the colab filespace panel (if it is not shown, click 'the folder' icon as highlighted below).\n",
        "![ColabUpload.jpg](data:image/jpeg;base64,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)"
      ],
      "metadata": {
        "id": "4-FFuAFzyoKq"
      }
    },
    {
      "cell_type": "code",
      "source": [
        "# Check the uploaded files\n",
        "list.files()"
      ],
      "metadata": {
        "colab": {
          "base_uri": "https://localhost:8080/",
          "height": 173
        },
        "id": "k4p7wWqqvKY4",
        "outputId": "d405491b-2798-4c6c-97ce-5400b346a900"
      },
      "execution_count": 9,
      "outputs": [
        {
          "output_type": "display_data",
          "data": {
            "text/html": [
              "<style>\n",
              ".list-inline {list-style: none; margin:0; padding: 0}\n",
              ".list-inline>li {display: inline-block}\n",
              ".list-inline>li:not(:last-child)::after {content: \"\\00b7\"; padding: 0 .5ex}\n",
              "</style>\n",
              "<ol class=list-inline><li>'blood.PRJNA782396_Zhang2022_covid19.conf.txt'</li><li>'gencode.v40.transcripts.fa.gz.tx2gene'</li><li>'sample_data'</li><li>'SRR16992513.gencode_v40_tx.kallisto_quant.abundance.tsv'</li><li>'SRR16992514.gencode_v40_tx.kallisto_quant.abundance.tsv'</li><li>'SRR16992515.gencode_v40_tx.kallisto_quant.abundance.tsv'</li><li>'SRR16992516.gencode_v40_tx.kallisto_quant.abundance.tsv'</li><li>'SRR16992517.gencode_v40_tx.kallisto_quant.abundance.tsv'</li><li>'SRR16992518.gencode_v40_tx.kallisto_quant.abundance.tsv'</li><li>'SRR16992519.gencode_v40_tx.kallisto_quant.abundance.tsv'</li><li>'SRR16992520.gencode_v40_tx.kallisto_quant.abundance.tsv'</li><li>'SRR16992521.gencode_v40_tx.kallisto_quant.abundance.tsv'</li><li>'SRR16992522.gencode_v40_tx.kallisto_quant.abundance.tsv'</li><li>'SRR16992523.gencode_v40_tx.kallisto_quant.abundance.tsv'</li><li>'SRR16992524.gencode_v40_tx.kallisto_quant.abundance.tsv'</li><li>'SRR16992525.gencode_v40_tx.kallisto_quant.abundance.tsv'</li><li>'SRR16992526.gencode_v40_tx.kallisto_quant.abundance.tsv'</li><li>'SRR16992527.gencode_v40_tx.kallisto_quant.abundance.tsv'</li><li>'SRR16992528.gencode_v40_tx.kallisto_quant.abundance.tsv'</li><li>'SRR16992529.gencode_v40_tx.kallisto_quant.abundance.tsv'</li><li>'SRR16992530.gencode_v40_tx.kallisto_quant.abundance.tsv'</li><li>'SRR16992531.gencode_v40_tx.kallisto_quant.abundance.tsv'</li><li>'SRR16992532.gencode_v40_tx.kallisto_quant.abundance.tsv'</li><li>'SRR16992533.gencode_v40_tx.kallisto_quant.abundance.tsv'</li><li>'SRR16992534.gencode_v40_tx.kallisto_quant.abundance.tsv'</li><li>'SRR16992535.gencode_v40_tx.kallisto_quant.abundance.tsv'</li><li>'SRR16992536.gencode_v40_tx.kallisto_quant.abundance.tsv'</li><li>'SRR16992537.gencode_v40_tx.kallisto_quant.abundance.tsv'</li></ol>\n"
            ],
            "text/markdown": "1. 'blood.PRJNA782396_Zhang2022_covid19.conf.txt'\n2. 'gencode.v40.transcripts.fa.gz.tx2gene'\n3. 'sample_data'\n4. 'SRR16992513.gencode_v40_tx.kallisto_quant.abundance.tsv'\n5. 'SRR16992514.gencode_v40_tx.kallisto_quant.abundance.tsv'\n6. 'SRR16992515.gencode_v40_tx.kallisto_quant.abundance.tsv'\n7. 'SRR16992516.gencode_v40_tx.kallisto_quant.abundance.tsv'\n8. 'SRR16992517.gencode_v40_tx.kallisto_quant.abundance.tsv'\n9. 'SRR16992518.gencode_v40_tx.kallisto_quant.abundance.tsv'\n10. 'SRR16992519.gencode_v40_tx.kallisto_quant.abundance.tsv'\n11. 'SRR16992520.gencode_v40_tx.kallisto_quant.abundance.tsv'\n12. 'SRR16992521.gencode_v40_tx.kallisto_quant.abundance.tsv'\n13. 'SRR16992522.gencode_v40_tx.kallisto_quant.abundance.tsv'\n14. 'SRR16992523.gencode_v40_tx.kallisto_quant.abundance.tsv'\n15. 'SRR16992524.gencode_v40_tx.kallisto_quant.abundance.tsv'\n16. 'SRR16992525.gencode_v40_tx.kallisto_quant.abundance.tsv'\n17. 'SRR16992526.gencode_v40_tx.kallisto_quant.abundance.tsv'\n18. 'SRR16992527.gencode_v40_tx.kallisto_quant.abundance.tsv'\n19. 'SRR16992528.gencode_v40_tx.kallisto_quant.abundance.tsv'\n20. 'SRR16992529.gencode_v40_tx.kallisto_quant.abundance.tsv'\n21. 'SRR16992530.gencode_v40_tx.kallisto_quant.abundance.tsv'\n22. 'SRR16992531.gencode_v40_tx.kallisto_quant.abundance.tsv'\n23. 'SRR16992532.gencode_v40_tx.kallisto_quant.abundance.tsv'\n24. 'SRR16992533.gencode_v40_tx.kallisto_quant.abundance.tsv'\n25. 'SRR16992534.gencode_v40_tx.kallisto_quant.abundance.tsv'\n26. 'SRR16992535.gencode_v40_tx.kallisto_quant.abundance.tsv'\n27. 'SRR16992536.gencode_v40_tx.kallisto_quant.abundance.tsv'\n28. 'SRR16992537.gencode_v40_tx.kallisto_quant.abundance.tsv'\n\n\n",
            "text/latex": "\\begin{enumerate*}\n\\item 'blood.PRJNA782396\\_Zhang2022\\_covid19.conf.txt'\n\\item 'gencode.v40.transcripts.fa.gz.tx2gene'\n\\item 'sample\\_data'\n\\item 'SRR16992513.gencode\\_v40\\_tx.kallisto\\_quant.abundance.tsv'\n\\item 'SRR16992514.gencode\\_v40\\_tx.kallisto\\_quant.abundance.tsv'\n\\item 'SRR16992515.gencode\\_v40\\_tx.kallisto\\_quant.abundance.tsv'\n\\item 'SRR16992516.gencode\\_v40\\_tx.kallisto\\_quant.abundance.tsv'\n\\item 'SRR16992517.gencode\\_v40\\_tx.kallisto\\_quant.abundance.tsv'\n\\item 'SRR16992518.gencode\\_v40\\_tx.kallisto\\_quant.abundance.tsv'\n\\item 'SRR16992519.gencode\\_v40\\_tx.kallisto\\_quant.abundance.tsv'\n\\item 'SRR16992520.gencode\\_v40\\_tx.kallisto\\_quant.abundance.tsv'\n\\item 'SRR16992521.gencode\\_v40\\_tx.kallisto\\_quant.abundance.tsv'\n\\item 'SRR16992522.gencode\\_v40\\_tx.kallisto\\_quant.abundance.tsv'\n\\item 'SRR16992523.gencode\\_v40\\_tx.kallisto\\_quant.abundance.tsv'\n\\item 'SRR16992524.gencode\\_v40\\_tx.kallisto\\_quant.abundance.tsv'\n\\item 'SRR16992525.gencode\\_v40\\_tx.kallisto\\_quant.abundance.tsv'\n\\item 'SRR16992526.gencode\\_v40\\_tx.kallisto\\_quant.abundance.tsv'\n\\item 'SRR16992527.gencode\\_v40\\_tx.kallisto\\_quant.abundance.tsv'\n\\item 'SRR16992528.gencode\\_v40\\_tx.kallisto\\_quant.abundance.tsv'\n\\item 'SRR16992529.gencode\\_v40\\_tx.kallisto\\_quant.abundance.tsv'\n\\item 'SRR16992530.gencode\\_v40\\_tx.kallisto\\_quant.abundance.tsv'\n\\item 'SRR16992531.gencode\\_v40\\_tx.kallisto\\_quant.abundance.tsv'\n\\item 'SRR16992532.gencode\\_v40\\_tx.kallisto\\_quant.abundance.tsv'\n\\item 'SRR16992533.gencode\\_v40\\_tx.kallisto\\_quant.abundance.tsv'\n\\item 'SRR16992534.gencode\\_v40\\_tx.kallisto\\_quant.abundance.tsv'\n\\item 'SRR16992535.gencode\\_v40\\_tx.kallisto\\_quant.abundance.tsv'\n\\item 'SRR16992536.gencode\\_v40\\_tx.kallisto\\_quant.abundance.tsv'\n\\item 'SRR16992537.gencode\\_v40\\_tx.kallisto\\_quant.abundance.tsv'\n\\end{enumerate*}\n",
            "text/plain": [
              " [1] \"blood.PRJNA782396_Zhang2022_covid19.conf.txt\"           \n",
              " [2] \"gencode.v40.transcripts.fa.gz.tx2gene\"                  \n",
              " [3] \"sample_data\"                                            \n",
              " [4] \"SRR16992513.gencode_v40_tx.kallisto_quant.abundance.tsv\"\n",
              " [5] \"SRR16992514.gencode_v40_tx.kallisto_quant.abundance.tsv\"\n",
              " [6] \"SRR16992515.gencode_v40_tx.kallisto_quant.abundance.tsv\"\n",
              " [7] \"SRR16992516.gencode_v40_tx.kallisto_quant.abundance.tsv\"\n",
              " [8] \"SRR16992517.gencode_v40_tx.kallisto_quant.abundance.tsv\"\n",
              " [9] \"SRR16992518.gencode_v40_tx.kallisto_quant.abundance.tsv\"\n",
              "[10] \"SRR16992519.gencode_v40_tx.kallisto_quant.abundance.tsv\"\n",
              "[11] \"SRR16992520.gencode_v40_tx.kallisto_quant.abundance.tsv\"\n",
              "[12] \"SRR16992521.gencode_v40_tx.kallisto_quant.abundance.tsv\"\n",
              "[13] \"SRR16992522.gencode_v40_tx.kallisto_quant.abundance.tsv\"\n",
              "[14] \"SRR16992523.gencode_v40_tx.kallisto_quant.abundance.tsv\"\n",
              "[15] \"SRR16992524.gencode_v40_tx.kallisto_quant.abundance.tsv\"\n",
              "[16] \"SRR16992525.gencode_v40_tx.kallisto_quant.abundance.tsv\"\n",
              "[17] \"SRR16992526.gencode_v40_tx.kallisto_quant.abundance.tsv\"\n",
              "[18] \"SRR16992527.gencode_v40_tx.kallisto_quant.abundance.tsv\"\n",
              "[19] \"SRR16992528.gencode_v40_tx.kallisto_quant.abundance.tsv\"\n",
              "[20] \"SRR16992529.gencode_v40_tx.kallisto_quant.abundance.tsv\"\n",
              "[21] \"SRR16992530.gencode_v40_tx.kallisto_quant.abundance.tsv\"\n",
              "[22] \"SRR16992531.gencode_v40_tx.kallisto_quant.abundance.tsv\"\n",
              "[23] \"SRR16992532.gencode_v40_tx.kallisto_quant.abundance.tsv\"\n",
              "[24] \"SRR16992533.gencode_v40_tx.kallisto_quant.abundance.tsv\"\n",
              "[25] \"SRR16992534.gencode_v40_tx.kallisto_quant.abundance.tsv\"\n",
              "[26] \"SRR16992535.gencode_v40_tx.kallisto_quant.abundance.tsv\"\n",
              "[27] \"SRR16992536.gencode_v40_tx.kallisto_quant.abundance.tsv\"\n",
              "[28] \"SRR16992537.gencode_v40_tx.kallisto_quant.abundance.tsv\""
            ]
          },
          "metadata": {}
        }
      ]
    },
    {
      "cell_type": "markdown",
      "source": [
        "## Read a config file. "
      ],
      "metadata": {
        "id": "SayIhTjP3_8D"
      }
    },
    {
      "cell_type": "code",
      "source": [
        "filename_tbl <- 'blood.PRJNA782396_Zhang2022_covid19.conf.txt'\n",
        "\n",
        "## Check the existence of a config file. It should return TRUE.\n",
        "file.exists(filename_tbl)\n",
        "\n",
        "## Read a config file.\n",
        "## Also check that your config file has column headers as \"Filename\", \"SampleName\", \"GroupName\".\n",
        "samples <- read.table(filename_tbl, header=TRUE)\n",
        "head(samples)\n",
        "\n",
        "## Sometimes, if the filename contains a white space, file cannot be read properly. \n",
        "## To prevent that error, I rename the file names by trimming the white space on them. \n",
        "## If there is no white apace, nothing happens. \n",
        "files <- trimws(samples$Filename)\n",
        "names(files) <- trimws(samples$SampleName)\n",
        "\n",
        "## Check the existence of the TSV files. It should return TRUE.\n",
        "all(file.exists(files))"
      ],
      "metadata": {
        "colab": {
          "base_uri": "https://localhost:8080/",
          "height": 321
        },
        "id": "3xgoj77k4Oqo",
        "outputId": "7cd8e0ba-9d1c-47e6-dba4-01830d39c5d1"
      },
      "execution_count": 10,
      "outputs": [
        {
          "output_type": "display_data",
          "data": {
            "text/html": [
              "TRUE"
            ],
            "text/markdown": "TRUE",
            "text/latex": "TRUE",
            "text/plain": [
              "[1] TRUE"
            ]
          },
          "metadata": {}
        },
        {
          "output_type": "display_data",
          "data": {
            "text/html": [
              "<table class=\"dataframe\">\n",
              "<caption>A data.frame: 6 × 3</caption>\n",
              "<thead>\n",
              "\t<tr><th></th><th scope=col>Filename</th><th scope=col>SampleName</th><th scope=col>GroupName</th></tr>\n",
              "\t<tr><th></th><th scope=col>&lt;chr&gt;</th><th scope=col>&lt;chr&gt;</th><th scope=col>&lt;chr&gt;</th></tr>\n",
              "</thead>\n",
              "<tbody>\n",
              "\t<tr><th scope=row>1</th><td>SRR16992513.gencode_v40_tx.kallisto_quant.abundance.tsv</td><td>Vaccine3-4</td><td>Vaccine3</td></tr>\n",
              "\t<tr><th scope=row>2</th><td>SRR16992514.gencode_v40_tx.kallisto_quant.abundance.tsv</td><td>Vaccine3-3</td><td>Vaccine3</td></tr>\n",
              "\t<tr><th scope=row>3</th><td>SRR16992515.gencode_v40_tx.kallisto_quant.abundance.tsv</td><td>Vaccine3-2</td><td>Vaccine3</td></tr>\n",
              "\t<tr><th scope=row>4</th><td>SRR16992516.gencode_v40_tx.kallisto_quant.abundance.tsv</td><td>Vaccine3-1</td><td>Vaccine3</td></tr>\n",
              "\t<tr><th scope=row>5</th><td>SRR16992517.gencode_v40_tx.kallisto_quant.abundance.tsv</td><td>Vaccine2-6</td><td>Vaccine2</td></tr>\n",
              "\t<tr><th scope=row>6</th><td>SRR16992518.gencode_v40_tx.kallisto_quant.abundance.tsv</td><td>Vaccine2-5</td><td>Vaccine2</td></tr>\n",
              "</tbody>\n",
              "</table>\n"
            ],
            "text/markdown": "\nA data.frame: 6 × 3\n\n| <!--/--> | Filename &lt;chr&gt; | SampleName &lt;chr&gt; | GroupName &lt;chr&gt; |\n|---|---|---|---|\n| 1 | SRR16992513.gencode_v40_tx.kallisto_quant.abundance.tsv | Vaccine3-4 | Vaccine3 |\n| 2 | SRR16992514.gencode_v40_tx.kallisto_quant.abundance.tsv | Vaccine3-3 | Vaccine3 |\n| 3 | SRR16992515.gencode_v40_tx.kallisto_quant.abundance.tsv | Vaccine3-2 | Vaccine3 |\n| 4 | SRR16992516.gencode_v40_tx.kallisto_quant.abundance.tsv | Vaccine3-1 | Vaccine3 |\n| 5 | SRR16992517.gencode_v40_tx.kallisto_quant.abundance.tsv | Vaccine2-6 | Vaccine2 |\n| 6 | SRR16992518.gencode_v40_tx.kallisto_quant.abundance.tsv | Vaccine2-5 | Vaccine2 |\n\n",
            "text/latex": "A data.frame: 6 × 3\n\\begin{tabular}{r|lll}\n  & Filename & SampleName & GroupName\\\\\n  & <chr> & <chr> & <chr>\\\\\n\\hline\n\t1 & SRR16992513.gencode\\_v40\\_tx.kallisto\\_quant.abundance.tsv & Vaccine3-4 & Vaccine3\\\\\n\t2 & SRR16992514.gencode\\_v40\\_tx.kallisto\\_quant.abundance.tsv & Vaccine3-3 & Vaccine3\\\\\n\t3 & SRR16992515.gencode\\_v40\\_tx.kallisto\\_quant.abundance.tsv & Vaccine3-2 & Vaccine3\\\\\n\t4 & SRR16992516.gencode\\_v40\\_tx.kallisto\\_quant.abundance.tsv & Vaccine3-1 & Vaccine3\\\\\n\t5 & SRR16992517.gencode\\_v40\\_tx.kallisto\\_quant.abundance.tsv & Vaccine2-6 & Vaccine2\\\\\n\t6 & SRR16992518.gencode\\_v40\\_tx.kallisto\\_quant.abundance.tsv & Vaccine2-5 & Vaccine2\\\\\n\\end{tabular}\n",
            "text/plain": [
              "  Filename                                                SampleName GroupName\n",
              "1 SRR16992513.gencode_v40_tx.kallisto_quant.abundance.tsv Vaccine3-4 Vaccine3 \n",
              "2 SRR16992514.gencode_v40_tx.kallisto_quant.abundance.tsv Vaccine3-3 Vaccine3 \n",
              "3 SRR16992515.gencode_v40_tx.kallisto_quant.abundance.tsv Vaccine3-2 Vaccine3 \n",
              "4 SRR16992516.gencode_v40_tx.kallisto_quant.abundance.tsv Vaccine3-1 Vaccine3 \n",
              "5 SRR16992517.gencode_v40_tx.kallisto_quant.abundance.tsv Vaccine2-6 Vaccine2 \n",
              "6 SRR16992518.gencode_v40_tx.kallisto_quant.abundance.tsv Vaccine2-5 Vaccine2 "
            ]
          },
          "metadata": {}
        },
        {
          "output_type": "display_data",
          "data": {
            "text/html": [
              "TRUE"
            ],
            "text/markdown": "TRUE",
            "text/latex": "TRUE",
            "text/plain": [
              "[1] TRUE"
            ]
          },
          "metadata": {}
        }
      ]
    },
    {
      "cell_type": "markdown",
      "source": [
        "## Import TSV files using tximport"
      ],
      "metadata": {
        "id": "wKUfHAYQ62-z"
      }
    },
    {
      "cell_type": "code",
      "source": [
        "txi <- tximport(files, type = \"kallisto\", tx2gene = tx2gene, countsFromAbundance = \"lengthScaledTPM\")\n",
        "head(txi$counts)"
      ],
      "metadata": {
        "colab": {
          "base_uri": "https://localhost:8080/",
          "height": 1000
        },
        "id": "hBvImz_y68ah",
        "outputId": "61d67bf2-7c63-46fd-b374-49d7510fc7df"
      },
      "execution_count": 11,
      "outputs": [
        {
          "output_type": "stream",
          "name": "stderr",
          "text": [
            "Note: importing `abundance.h5` is typically faster than `abundance.tsv`\n",
            "\n",
            "Warning message in system(\"timedatectl\", intern = TRUE):\n",
            "“running command 'timedatectl' had status 1”\n",
            "reading in files with read_tsv\n",
            "\n",
            "1 \n",
            "2 \n",
            "3 \n",
            "4 \n",
            "5 \n",
            "6 \n",
            "7 \n",
            "8 \n",
            "9 \n",
            "10 \n",
            "11 \n",
            "12 \n",
            "13 \n",
            "14 \n",
            "15 \n",
            "16 \n",
            "17 \n",
            "18 \n",
            "19 \n",
            "20 \n",
            "21 \n",
            "22 \n",
            "23 \n",
            "24 \n",
            "25 \n",
            "\n",
            "\n",
            "summarizing abundance\n",
            "\n",
            "summarizing counts\n",
            "\n",
            "summarizing length\n",
            "\n"
          ]
        },
        {
          "output_type": "display_data",
          "data": {
            "text/html": [
              "<table class=\"dataframe\">\n",
              "<caption>A matrix: 6 × 25 of type dbl</caption>\n",
              "<thead>\n",
              "\t<tr><th></th><th scope=col>Vaccine3-4</th><th scope=col>Vaccine3-3</th><th scope=col>Vaccine3-2</th><th scope=col>Vaccine3-1</th><th scope=col>Vaccine2-6</th><th scope=col>Vaccine2-5</th><th scope=col>Vaccine2-4</th><th scope=col>Vaccine2-3</th><th scope=col>Vaccine2-2</th><th scope=col>Vaccine2-1</th><th scope=col>⋯</th><th scope=col>Patient-5</th><th scope=col>Patient-4</th><th scope=col>Patient-3</th><th scope=col>Patient-2</th><th scope=col>Patient-1</th><th scope=col>Control-5</th><th scope=col>Control-4</th><th scope=col>Control-3</th><th scope=col>Control-2</th><th scope=col>Control-1</th></tr>\n",
              "</thead>\n",
              "<tbody>\n",
              "\t<tr><th scope=row>5_8S_rRNA</th><td>7.290177e+03</td><td>3838.757473</td><td>7.478885e+03</td><td>2.152373e+03</td><td>2291.988259</td><td>6600.615709</td><td>15853.08098</td><td>5877.132296</td><td>36209.57182</td><td>5302.693889</td><td>⋯</td><td>23498.822642</td><td>28883.98636</td><td>25485.431100</td><td>37207.9837</td><td>16087.79501</td><td>26527.434504</td><td>30799.369841</td><td>30732.696210</td><td>303.370362</td><td>929.81039</td></tr>\n",
              "\t<tr><th scope=row>5S_rRNA</th><td>2.008171e+00</td><td>   3.191898</td><td>5.016568e+00</td><td>7.239768e-01</td><td>   5.600203</td><td>   6.349539</td><td>   11.63904</td><td>   4.868269</td><td>   13.37845</td><td>  10.757793</td><td>⋯</td><td>    3.210471</td><td>   12.04320</td><td>    2.849369</td><td>    0.0000</td><td>   23.45810</td><td>    4.337362</td><td>   12.033665</td><td>    2.265643</td><td>  6.967895</td><td> 13.16037</td></tr>\n",
              "\t<tr><th scope=row>7SK</th><td>2.952378e-03</td><td>   1.536418</td><td>1.076937e-03</td><td>1.326852e-03</td><td>   6.011816</td><td>   1.544724</td><td>  130.60355</td><td> 242.396540</td><td>  320.20052</td><td> 135.350677</td><td>⋯</td><td>  177.387082</td><td>  484.14574</td><td>  124.724071</td><td>  121.0190</td><td>  750.97650</td><td>    8.368124</td><td>   68.086831</td><td>    2.864438</td><td>304.073849</td><td>116.06898</td></tr>\n",
              "\t<tr><th scope=row>A1BG</th><td>6.275599e+01</td><td>  75.902361</td><td>2.843187e+01</td><td>4.373672e+01</td><td> 242.000453</td><td> 158.621917</td><td>  301.68798</td><td> 170.907486</td><td>  246.69915</td><td> 216.113613</td><td>⋯</td><td>  211.442537</td><td>  175.45931</td><td>  131.644981</td><td>  231.7939</td><td>  129.26035</td><td>  324.799890</td><td>  190.401734</td><td>  355.559647</td><td>113.864594</td><td>264.66363</td></tr>\n",
              "\t<tr><th scope=row>A1BG-AS1</th><td>4.012611e+01</td><td>  54.325590</td><td>5.358921e+01</td><td>7.420801e+01</td><td> 184.015074</td><td> 168.719348</td><td>  213.82152</td><td> 113.307788</td><td>  153.04259</td><td> 132.302686</td><td>⋯</td><td>   61.363242</td><td>   47.24217</td><td>   51.312084</td><td>   69.5550</td><td>   62.91931</td><td>  256.515485</td><td>  224.455351</td><td>  212.485660</td><td>229.343763</td><td>527.40603</td></tr>\n",
              "\t<tr><th scope=row>A1CF</th><td>0.000000e+00</td><td>  25.574083</td><td>1.234994e+01</td><td>2.255967e+01</td><td>  16.055817</td><td>  42.778532</td><td>   33.19072</td><td>  49.112716</td><td>   34.99307</td><td>   9.433237</td><td>⋯</td><td>   17.260929</td><td>   22.93783</td><td>    3.779197</td><td>   13.8558</td><td>   10.26845</td><td>   70.725056</td><td>    5.073502</td><td>    8.192200</td><td> 30.822774</td><td> 23.39574</td></tr>\n",
              "</tbody>\n",
              "</table>\n"
            ],
            "text/markdown": "\nA matrix: 6 × 25 of type dbl\n\n| <!--/--> | Vaccine3-4 | Vaccine3-3 | Vaccine3-2 | Vaccine3-1 | Vaccine2-6 | Vaccine2-5 | Vaccine2-4 | Vaccine2-3 | Vaccine2-2 | Vaccine2-1 | ⋯ | Patient-5 | Patient-4 | Patient-3 | Patient-2 | Patient-1 | Control-5 | Control-4 | Control-3 | Control-2 | Control-1 |\n|---|---|---|---|---|---|---|---|---|---|---|---|---|---|---|---|---|---|---|---|---|---|\n| 5_8S_rRNA | 7.290177e+03 | 3838.757473 | 7.478885e+03 | 2.152373e+03 | 2291.988259 | 6600.615709 | 15853.08098 | 5877.132296 | 36209.57182 | 5302.693889 | ⋯ | 23498.822642 | 28883.98636 | 25485.431100 | 37207.9837 | 16087.79501 | 26527.434504 | 30799.369841 | 30732.696210 | 303.370362 | 929.81039 |\n| 5S_rRNA | 2.008171e+00 |    3.191898 | 5.016568e+00 | 7.239768e-01 |    5.600203 |    6.349539 |    11.63904 |    4.868269 |    13.37845 |   10.757793 | ⋯ |     3.210471 |    12.04320 |     2.849369 |     0.0000 |    23.45810 |     4.337362 |    12.033665 |     2.265643 |   6.967895 |  13.16037 |\n| 7SK | 2.952378e-03 |    1.536418 | 1.076937e-03 | 1.326852e-03 |    6.011816 |    1.544724 |   130.60355 |  242.396540 |   320.20052 |  135.350677 | ⋯ |   177.387082 |   484.14574 |   124.724071 |   121.0190 |   750.97650 |     8.368124 |    68.086831 |     2.864438 | 304.073849 | 116.06898 |\n| A1BG | 6.275599e+01 |   75.902361 | 2.843187e+01 | 4.373672e+01 |  242.000453 |  158.621917 |   301.68798 |  170.907486 |   246.69915 |  216.113613 | ⋯ |   211.442537 |   175.45931 |   131.644981 |   231.7939 |   129.26035 |   324.799890 |   190.401734 |   355.559647 | 113.864594 | 264.66363 |\n| A1BG-AS1 | 4.012611e+01 |   54.325590 | 5.358921e+01 | 7.420801e+01 |  184.015074 |  168.719348 |   213.82152 |  113.307788 |   153.04259 |  132.302686 | ⋯ |    61.363242 |    47.24217 |    51.312084 |    69.5550 |    62.91931 |   256.515485 |   224.455351 |   212.485660 | 229.343763 | 527.40603 |\n| A1CF | 0.000000e+00 |   25.574083 | 1.234994e+01 | 2.255967e+01 |   16.055817 |   42.778532 |    33.19072 |   49.112716 |    34.99307 |    9.433237 | ⋯ |    17.260929 |    22.93783 |     3.779197 |    13.8558 |    10.26845 |    70.725056 |     5.073502 |     8.192200 |  30.822774 |  23.39574 |\n\n",
            "text/latex": "A matrix: 6 × 25 of type dbl\n\\begin{tabular}{r|lllllllllllllllllllll}\n  & Vaccine3-4 & Vaccine3-3 & Vaccine3-2 & Vaccine3-1 & Vaccine2-6 & Vaccine2-5 & Vaccine2-4 & Vaccine2-3 & Vaccine2-2 & Vaccine2-1 & ⋯ & Patient-5 & Patient-4 & Patient-3 & Patient-2 & Patient-1 & Control-5 & Control-4 & Control-3 & Control-2 & Control-1\\\\\n\\hline\n\t5\\_8S\\_rRNA & 7.290177e+03 & 3838.757473 & 7.478885e+03 & 2.152373e+03 & 2291.988259 & 6600.615709 & 15853.08098 & 5877.132296 & 36209.57182 & 5302.693889 & ⋯ & 23498.822642 & 28883.98636 & 25485.431100 & 37207.9837 & 16087.79501 & 26527.434504 & 30799.369841 & 30732.696210 & 303.370362 & 929.81039\\\\\n\t5S\\_rRNA & 2.008171e+00 &    3.191898 & 5.016568e+00 & 7.239768e-01 &    5.600203 &    6.349539 &    11.63904 &    4.868269 &    13.37845 &   10.757793 & ⋯ &     3.210471 &    12.04320 &     2.849369 &     0.0000 &    23.45810 &     4.337362 &    12.033665 &     2.265643 &   6.967895 &  13.16037\\\\\n\t7SK & 2.952378e-03 &    1.536418 & 1.076937e-03 & 1.326852e-03 &    6.011816 &    1.544724 &   130.60355 &  242.396540 &   320.20052 &  135.350677 & ⋯ &   177.387082 &   484.14574 &   124.724071 &   121.0190 &   750.97650 &     8.368124 &    68.086831 &     2.864438 & 304.073849 & 116.06898\\\\\n\tA1BG & 6.275599e+01 &   75.902361 & 2.843187e+01 & 4.373672e+01 &  242.000453 &  158.621917 &   301.68798 &  170.907486 &   246.69915 &  216.113613 & ⋯ &   211.442537 &   175.45931 &   131.644981 &   231.7939 &   129.26035 &   324.799890 &   190.401734 &   355.559647 & 113.864594 & 264.66363\\\\\n\tA1BG-AS1 & 4.012611e+01 &   54.325590 & 5.358921e+01 & 7.420801e+01 &  184.015074 &  168.719348 &   213.82152 &  113.307788 &   153.04259 &  132.302686 & ⋯ &    61.363242 &    47.24217 &    51.312084 &    69.5550 &    62.91931 &   256.515485 &   224.455351 &   212.485660 & 229.343763 & 527.40603\\\\\n\tA1CF & 0.000000e+00 &   25.574083 & 1.234994e+01 & 2.255967e+01 &   16.055817 &   42.778532 &    33.19072 &   49.112716 &    34.99307 &    9.433237 & ⋯ &    17.260929 &    22.93783 &     3.779197 &    13.8558 &    10.26845 &    70.725056 &     5.073502 &     8.192200 &  30.822774 &  23.39574\\\\\n\\end{tabular}\n",
            "text/plain": [
              "          Vaccine3-4   Vaccine3-3  Vaccine3-2   Vaccine3-1   Vaccine2-6 \n",
              "5_8S_rRNA 7.290177e+03 3838.757473 7.478885e+03 2.152373e+03 2291.988259\n",
              "5S_rRNA   2.008171e+00    3.191898 5.016568e+00 7.239768e-01    5.600203\n",
              "7SK       2.952378e-03    1.536418 1.076937e-03 1.326852e-03    6.011816\n",
              "A1BG      6.275599e+01   75.902361 2.843187e+01 4.373672e+01  242.000453\n",
              "A1BG-AS1  4.012611e+01   54.325590 5.358921e+01 7.420801e+01  184.015074\n",
              "A1CF      0.000000e+00   25.574083 1.234994e+01 2.255967e+01   16.055817\n",
              "          Vaccine2-5  Vaccine2-4  Vaccine2-3  Vaccine2-2  Vaccine2-1  ⋯\n",
              "5_8S_rRNA 6600.615709 15853.08098 5877.132296 36209.57182 5302.693889 ⋯\n",
              "5S_rRNA      6.349539    11.63904    4.868269    13.37845   10.757793 ⋯\n",
              "7SK          1.544724   130.60355  242.396540   320.20052  135.350677 ⋯\n",
              "A1BG       158.621917   301.68798  170.907486   246.69915  216.113613 ⋯\n",
              "A1BG-AS1   168.719348   213.82152  113.307788   153.04259  132.302686 ⋯\n",
              "A1CF        42.778532    33.19072   49.112716    34.99307    9.433237 ⋯\n",
              "          Patient-5    Patient-4   Patient-3    Patient-2  Patient-1  \n",
              "5_8S_rRNA 23498.822642 28883.98636 25485.431100 37207.9837 16087.79501\n",
              "5S_rRNA       3.210471    12.04320     2.849369     0.0000    23.45810\n",
              "7SK         177.387082   484.14574   124.724071   121.0190   750.97650\n",
              "A1BG        211.442537   175.45931   131.644981   231.7939   129.26035\n",
              "A1BG-AS1     61.363242    47.24217    51.312084    69.5550    62.91931\n",
              "A1CF         17.260929    22.93783     3.779197    13.8558    10.26845\n",
              "          Control-5    Control-4    Control-3    Control-2  Control-1\n",
              "5_8S_rRNA 26527.434504 30799.369841 30732.696210 303.370362 929.81039\n",
              "5S_rRNA       4.337362    12.033665     2.265643   6.967895  13.16037\n",
              "7SK           8.368124    68.086831     2.864438 304.073849 116.06898\n",
              "A1BG        324.799890   190.401734   355.559647 113.864594 264.66363\n",
              "A1BG-AS1    256.515485   224.455351   212.485660 229.343763 527.40603\n",
              "A1CF         70.725056     5.073502     8.192200  30.822774  23.39574"
            ]
          },
          "metadata": {}
        }
      ]
    },
    {
      "cell_type": "markdown",
      "source": [
        "## Quality check with boxplot & hierarchical clustering\n"
      ],
      "metadata": {
        "id": "92gvRwlU-alm"
      }
    },
    {
      "cell_type": "code",
      "source": [
        "options(repr.plot.width=12, repr.plot.height=6)\n",
        "boxplot(log(txi$abundance+0.001, base=2), las=2)"
      ],
      "metadata": {
        "colab": {
          "base_uri": "https://localhost:8080/",
          "height": 377
        },
        "id": "BMH0eoXt-mrb",
        "outputId": "432cdeb4-de84-4e44-f2c0-04c828295d3f"
      },
      "execution_count": 12,
      "outputs": [
        {
          "output_type": "display_data",
          "data": {
            "text/plain": [
              "plot without title"
            ],
            "image/png": "[encoded data removed]"
          },
          "metadata": {
            "image/png": {
              "width": 720,
              "height": 360
            }
          }
        }
      ]
    },
    {
      "cell_type": "code",
      "source": [
        "dist_corr <- dist(1-cor(as.matrix(txi$abundance), method='spearman'))\n",
        "plot(hclust(dist_corr))"
      ],
      "metadata": {
        "colab": {
          "base_uri": "https://localhost:8080/",
          "height": 377
        },
        "id": "7pA8juBK-xtO",
        "outputId": "66d27cae-05ed-4e58-f564-5e89c2486d6c"
      },
      "execution_count": 13,
      "outputs": [
        {
          "output_type": "display_data",
          "data": {
            "text/plain": [
              "Plot with title “Cluster Dendrogram”"
            ],
            "image/png": "[encoded data removed]"
          },
          "metadata": {
            "image/png": {
              "width": 720,
              "height": 360
            }
          }
        }
      ]
    },
    {
      "cell_type": "markdown",
      "source": [
        "## Normalization & fileration of low expressed gene"
      ],
      "metadata": {
        "id": "rQ_c4YTPCIcr"
      }
    },
    {
      "cell_type": "code",
      "source": [
        "## Convert tximport object to DEGList \n",
        "y <- DGEList(counts=txi$counts, group=samples$GroupName)\n",
        "\n",
        "## Perform normalization\n",
        "y <- calcNormFactors(y)\n",
        "\n",
        "## Check the dimension of the data before low expression filtering\n",
        "dim(y)\n",
        "keep <- filterByExpr(y, group=samples$GroupName)\n",
        "y <- y[keep, , keep.lib.sizes=FALSE]\n",
        "\n",
        "## Check the dimension of the data after low expression filtering\n",
        "dim(y)"
      ],
      "metadata": {
        "colab": {
          "base_uri": "https://localhost:8080/",
          "height": 52
        },
        "id": "T6-26qHaCO4A",
        "outputId": "e15cd624-b139-436d-eb96-9d9e2d8ccaea"
      },
      "execution_count": 14,
      "outputs": [
        {
          "output_type": "display_data",
          "data": {
            "text/html": [
              "<style>\n",
              ".list-inline {list-style: none; margin:0; padding: 0}\n",
              ".list-inline>li {display: inline-block}\n",
              ".list-inline>li:not(:last-child)::after {content: \"\\00b7\"; padding: 0 .5ex}\n",
              "</style>\n",
              "<ol class=list-inline><li>60308</li><li>25</li></ol>\n"
            ],
            "text/markdown": "1. 60308\n2. 25\n\n\n",
            "text/latex": "\\begin{enumerate*}\n\\item 60308\n\\item 25\n\\end{enumerate*}\n",
            "text/plain": [
              "[1] 60308    25"
            ]
          },
          "metadata": {}
        },
        {
          "output_type": "display_data",
          "data": {
            "text/html": [
              "<style>\n",
              ".list-inline {list-style: none; margin:0; padding: 0}\n",
              ".list-inline>li {display: inline-block}\n",
              ".list-inline>li:not(:last-child)::after {content: \"\\00b7\"; padding: 0 .5ex}\n",
              "</style>\n",
              "<ol class=list-inline><li>27885</li><li>25</li></ol>\n"
            ],
            "text/markdown": "1. 27885\n2. 25\n\n\n",
            "text/latex": "\\begin{enumerate*}\n\\item 27885\n\\item 25\n\\end{enumerate*}\n",
            "text/plain": [
              "[1] 27885    25"
            ]
          },
          "metadata": {}
        }
      ]
    },
    {
      "cell_type": "markdown",
      "source": [
        "## Quality check with boxplot & hierarchical clustering AFTER filteration & normalization"
      ],
      "metadata": {
        "id": "a2yy449RDl-k"
      }
    },
    {
      "cell_type": "code",
      "source": [
        "options(repr.plot.width=12, repr.plot.height=6)\n",
        "boxplot(log(as.matrix(y)+0.001, base=2), las=2, outline=FALSE)"
      ],
      "metadata": {
        "colab": {
          "base_uri": "https://localhost:8080/",
          "height": 377
        },
        "id": "P19EhA9wDrND",
        "outputId": "403c1290-966b-4af5-9c97-c34089b4db35"
      },
      "execution_count": 15,
      "outputs": [
        {
          "output_type": "display_data",
          "data": {
            "text/plain": [
              "plot without title"
            ],
            "image/png": "[encoded data removed]"
          },
          "metadata": {
            "image/png": {
              "width": 720,
              "height": 360
            }
          }
        }
      ]
    },
    {
      "cell_type": "code",
      "source": [
        "dist_corr <- dist(1-cor(as.matrix(y), method='spearman'))\n",
        "plot(hclust(dist_corr))"
      ],
      "metadata": {
        "colab": {
          "base_uri": "https://localhost:8080/",
          "height": 377
        },
        "id": "JwgWSXJxD4qD",
        "outputId": "324764c0-187f-494d-b355-e2e9ae229188"
      },
      "execution_count": 16,
      "outputs": [
        {
          "output_type": "display_data",
          "data": {
            "text/plain": [
              "Plot with title “Cluster Dendrogram”"
            ],
            "image/png": "[encoded data removed]"
          },
          "metadata": {
            "image/png": {
              "width": 720,
              "height": 360
            }
          }
        }
      ]
    },
    {
      "cell_type": "markdown",
      "source": [
        "## Differentially expressed gene analysis with linear model\n",
        "\n",
        "For more information, see \"8. Linear Model Overview\" and \"15. RNA-seq Data\" of \"the limma user guide\" https://www.bioconductor.org/packages/devel/bioc/vignettes/limma/inst/doc/usersguide.pdf"
      ],
      "metadata": {
        "id": "SGb2IjULFEqc"
      }
    },
    {
      "cell_type": "code",
      "source": [
        "## Make a design matrix. \n",
        "groups <- samples$GroupName\n",
        "design <- model.matrix(~0+groups)\n",
        "colnames(design) <- gsub('groups', '', colnames(design))\n",
        "design"
      ],
      "metadata": {
        "colab": {
          "base_uri": "https://localhost:8080/",
          "height": 851
        },
        "id": "n5sYPtVtFEOQ",
        "outputId": "48edaa32-1b3a-4543-b818-1c0a45d7b9bd"
      },
      "execution_count": 20,
      "outputs": [
        {
          "output_type": "display_data",
          "data": {
            "text/html": [
              "<table class=\"dataframe\">\n",
              "<caption>A matrix: 25 × 5 of type dbl</caption>\n",
              "<thead>\n",
              "\t<tr><th></th><th scope=col>Control</th><th scope=col>Patient</th><th scope=col>Vaccine1</th><th scope=col>Vaccine2</th><th scope=col>Vaccine3</th></tr>\n",
              "</thead>\n",
              "<tbody>\n",
              "\t<tr><th scope=row>1</th><td>0</td><td>0</td><td>0</td><td>0</td><td>1</td></tr>\n",
              "\t<tr><th scope=row>2</th><td>0</td><td>0</td><td>0</td><td>0</td><td>1</td></tr>\n",
              "\t<tr><th scope=row>3</th><td>0</td><td>0</td><td>0</td><td>0</td><td>1</td></tr>\n",
              "\t<tr><th scope=row>4</th><td>0</td><td>0</td><td>0</td><td>0</td><td>1</td></tr>\n",
              "\t<tr><th scope=row>5</th><td>0</td><td>0</td><td>0</td><td>1</td><td>0</td></tr>\n",
              "\t<tr><th scope=row>6</th><td>0</td><td>0</td><td>0</td><td>1</td><td>0</td></tr>\n",
              "\t<tr><th scope=row>7</th><td>0</td><td>0</td><td>0</td><td>1</td><td>0</td></tr>\n",
              "\t<tr><th scope=row>8</th><td>0</td><td>0</td><td>0</td><td>1</td><td>0</td></tr>\n",
              "\t<tr><th scope=row>9</th><td>0</td><td>0</td><td>0</td><td>1</td><td>0</td></tr>\n",
              "\t<tr><th scope=row>10</th><td>0</td><td>0</td><td>0</td><td>1</td><td>0</td></tr>\n",
              "\t<tr><th scope=row>11</th><td>0</td><td>0</td><td>1</td><td>0</td><td>0</td></tr>\n",
              "\t<tr><th scope=row>12</th><td>0</td><td>0</td><td>1</td><td>0</td><td>0</td></tr>\n",
              "\t<tr><th scope=row>13</th><td>0</td><td>0</td><td>1</td><td>0</td><td>0</td></tr>\n",
              "\t<tr><th scope=row>14</th><td>0</td><td>0</td><td>1</td><td>0</td><td>0</td></tr>\n",
              "\t<tr><th scope=row>15</th><td>0</td><td>0</td><td>1</td><td>0</td><td>0</td></tr>\n",
              "\t<tr><th scope=row>16</th><td>0</td><td>1</td><td>0</td><td>0</td><td>0</td></tr>\n",
              "\t<tr><th scope=row>17</th><td>0</td><td>1</td><td>0</td><td>0</td><td>0</td></tr>\n",
              "\t<tr><th scope=row>18</th><td>0</td><td>1</td><td>0</td><td>0</td><td>0</td></tr>\n",
              "\t<tr><th scope=row>19</th><td>0</td><td>1</td><td>0</td><td>0</td><td>0</td></tr>\n",
              "\t<tr><th scope=row>20</th><td>0</td><td>1</td><td>0</td><td>0</td><td>0</td></tr>\n",
              "\t<tr><th scope=row>21</th><td>1</td><td>0</td><td>0</td><td>0</td><td>0</td></tr>\n",
              "\t<tr><th scope=row>22</th><td>1</td><td>0</td><td>0</td><td>0</td><td>0</td></tr>\n",
              "\t<tr><th scope=row>23</th><td>1</td><td>0</td><td>0</td><td>0</td><td>0</td></tr>\n",
              "\t<tr><th scope=row>24</th><td>1</td><td>0</td><td>0</td><td>0</td><td>0</td></tr>\n",
              "\t<tr><th scope=row>25</th><td>1</td><td>0</td><td>0</td><td>0</td><td>0</td></tr>\n",
              "</tbody>\n",
              "</table>\n"
            ],
            "text/markdown": "\nA matrix: 25 × 5 of type dbl\n\n| <!--/--> | Control | Patient | Vaccine1 | Vaccine2 | Vaccine3 |\n|---|---|---|---|---|---|\n| 1 | 0 | 0 | 0 | 0 | 1 |\n| 2 | 0 | 0 | 0 | 0 | 1 |\n| 3 | 0 | 0 | 0 | 0 | 1 |\n| 4 | 0 | 0 | 0 | 0 | 1 |\n| 5 | 0 | 0 | 0 | 1 | 0 |\n| 6 | 0 | 0 | 0 | 1 | 0 |\n| 7 | 0 | 0 | 0 | 1 | 0 |\n| 8 | 0 | 0 | 0 | 1 | 0 |\n| 9 | 0 | 0 | 0 | 1 | 0 |\n| 10 | 0 | 0 | 0 | 1 | 0 |\n| 11 | 0 | 0 | 1 | 0 | 0 |\n| 12 | 0 | 0 | 1 | 0 | 0 |\n| 13 | 0 | 0 | 1 | 0 | 0 |\n| 14 | 0 | 0 | 1 | 0 | 0 |\n| 15 | 0 | 0 | 1 | 0 | 0 |\n| 16 | 0 | 1 | 0 | 0 | 0 |\n| 17 | 0 | 1 | 0 | 0 | 0 |\n| 18 | 0 | 1 | 0 | 0 | 0 |\n| 19 | 0 | 1 | 0 | 0 | 0 |\n| 20 | 0 | 1 | 0 | 0 | 0 |\n| 21 | 1 | 0 | 0 | 0 | 0 |\n| 22 | 1 | 0 | 0 | 0 | 0 |\n| 23 | 1 | 0 | 0 | 0 | 0 |\n| 24 | 1 | 0 | 0 | 0 | 0 |\n| 25 | 1 | 0 | 0 | 0 | 0 |\n\n",
            "text/latex": "A matrix: 25 × 5 of type dbl\n\\begin{tabular}{r|lllll}\n  & Control & Patient & Vaccine1 & Vaccine2 & Vaccine3\\\\\n\\hline\n\t1 & 0 & 0 & 0 & 0 & 1\\\\\n\t2 & 0 & 0 & 0 & 0 & 1\\\\\n\t3 & 0 & 0 & 0 & 0 & 1\\\\\n\t4 & 0 & 0 & 0 & 0 & 1\\\\\n\t5 & 0 & 0 & 0 & 1 & 0\\\\\n\t6 & 0 & 0 & 0 & 1 & 0\\\\\n\t7 & 0 & 0 & 0 & 1 & 0\\\\\n\t8 & 0 & 0 & 0 & 1 & 0\\\\\n\t9 & 0 & 0 & 0 & 1 & 0\\\\\n\t10 & 0 & 0 & 0 & 1 & 0\\\\\n\t11 & 0 & 0 & 1 & 0 & 0\\\\\n\t12 & 0 & 0 & 1 & 0 & 0\\\\\n\t13 & 0 & 0 & 1 & 0 & 0\\\\\n\t14 & 0 & 0 & 1 & 0 & 0\\\\\n\t15 & 0 & 0 & 1 & 0 & 0\\\\\n\t16 & 0 & 1 & 0 & 0 & 0\\\\\n\t17 & 0 & 1 & 0 & 0 & 0\\\\\n\t18 & 0 & 1 & 0 & 0 & 0\\\\\n\t19 & 0 & 1 & 0 & 0 & 0\\\\\n\t20 & 0 & 1 & 0 & 0 & 0\\\\\n\t21 & 1 & 0 & 0 & 0 & 0\\\\\n\t22 & 1 & 0 & 0 & 0 & 0\\\\\n\t23 & 1 & 0 & 0 & 0 & 0\\\\\n\t24 & 1 & 0 & 0 & 0 & 0\\\\\n\t25 & 1 & 0 & 0 & 0 & 0\\\\\n\\end{tabular}\n",
            "text/plain": [
              "   Control Patient Vaccine1 Vaccine2 Vaccine3\n",
              "1  0       0       0        0        1       \n",
              "2  0       0       0        0        1       \n",
              "3  0       0       0        0        1       \n",
              "4  0       0       0        0        1       \n",
              "5  0       0       0        1        0       \n",
              "6  0       0       0        1        0       \n",
              "7  0       0       0        1        0       \n",
              "8  0       0       0        1        0       \n",
              "9  0       0       0        1        0       \n",
              "10 0       0       0        1        0       \n",
              "11 0       0       1        0        0       \n",
              "12 0       0       1        0        0       \n",
              "13 0       0       1        0        0       \n",
              "14 0       0       1        0        0       \n",
              "15 0       0       1        0        0       \n",
              "16 0       1       0        0        0       \n",
              "17 0       1       0        0        0       \n",
              "18 0       1       0        0        0       \n",
              "19 0       1       0        0        0       \n",
              "20 0       1       0        0        0       \n",
              "21 1       0       0        0        0       \n",
              "22 1       0       0        0        0       \n",
              "23 1       0       0        0        0       \n",
              "24 1       0       0        0        0       \n",
              "25 1       0       0        0        0       "
            ]
          },
          "metadata": {}
        }
      ]
    },
    {
      "cell_type": "code",
      "source": [
        "v <- voom(y, design)\n",
        "fit_lm <- lmFit(v, design)\n",
        "contrast_mat <- makeContrasts(Patient-Control, Vaccine2-Control, levels=design)\n",
        "\n",
        "fit_c <- contrasts.fit(fit_lm, contrast_mat)\n",
        "fit_c <- eBayes(fit_c)\n",
        "\n",
        "list_patient <- topTable(fit_c, coef=1, confint=TRUE, n=Inf, adjust=\"BH\")\n",
        "list_vacc2 <- topTable(fit_c, coef=2, confint=TRUE, n=Inf, adjust=\"BH\")\n",
        "\n",
        "head(list_patient)\n",
        "head(list_vacc2)"
      ],
      "metadata": {
        "colab": {
          "base_uri": "https://localhost:8080/",
          "height": 555
        },
        "id": "hppKwGKDF7F3",
        "outputId": "3f5ffea3-1cd5-4816-b01c-0386a6035594"
      },
      "execution_count": 21,
      "outputs": [
        {
          "output_type": "display_data",
          "data": {
            "text/html": [
              "<table class=\"dataframe\">\n",
              "<caption>A data.frame: 6 × 8</caption>\n",
              "<thead>\n",
              "\t<tr><th></th><th scope=col>logFC</th><th scope=col>CI.L</th><th scope=col>CI.R</th><th scope=col>AveExpr</th><th scope=col>t</th><th scope=col>P.Value</th><th scope=col>adj.P.Val</th><th scope=col>B</th></tr>\n",
              "\t<tr><th></th><th scope=col>&lt;dbl&gt;</th><th scope=col>&lt;dbl&gt;</th><th scope=col>&lt;dbl&gt;</th><th scope=col>&lt;dbl&gt;</th><th scope=col>&lt;dbl&gt;</th><th scope=col>&lt;dbl&gt;</th><th scope=col>&lt;dbl&gt;</th><th scope=col>&lt;dbl&gt;</th></tr>\n",
              "</thead>\n",
              "<tbody>\n",
              "\t<tr><th scope=row>NOCT</th><td> 2.870218</td><td> 2.494252</td><td> 3.246185</td><td>4.385650</td><td> 15.66497</td><td>4.579130e-15</td><td>1.276890e-10</td><td>23.62645</td></tr>\n",
              "\t<tr><th scope=row>GIMAP8</th><td>-2.795197</td><td>-3.175617</td><td>-2.414776</td><td>4.031562</td><td>-15.07691</td><td>1.160365e-14</td><td>1.617840e-10</td><td>23.05287</td></tr>\n",
              "\t<tr><th scope=row>SLC7A5</th><td> 3.127841</td><td> 2.665855</td><td> 3.589827</td><td>6.541467</td><td> 13.89248</td><td>8.265510e-14</td><td>7.682792e-10</td><td>21.46934</td></tr>\n",
              "\t<tr><th scope=row>RELB</th><td> 2.404354</td><td> 2.030886</td><td> 2.777822</td><td>5.611069</td><td> 13.21018</td><td>2.717237e-13</td><td>1.894254e-09</td><td>20.27476</td></tr>\n",
              "\t<tr><th scope=row>LDLR</th><td> 2.325155</td><td> 1.955255</td><td> 2.695055</td><td>6.822656</td><td> 12.89825</td><td>4.754226e-13</td><td>2.651432e-09</td><td>19.83515</td></tr>\n",
              "\t<tr><th scope=row>GABARAPL1</th><td> 1.989754</td><td> 1.660425</td><td> 2.319082</td><td>6.442129</td><td> 12.39749</td><td>1.191889e-12</td><td>5.491262e-09</td><td>18.93690</td></tr>\n",
              "</tbody>\n",
              "</table>\n"
            ],
            "text/markdown": "\nA data.frame: 6 × 8\n\n| <!--/--> | logFC &lt;dbl&gt; | CI.L &lt;dbl&gt; | CI.R &lt;dbl&gt; | AveExpr &lt;dbl&gt; | t &lt;dbl&gt; | P.Value &lt;dbl&gt; | adj.P.Val &lt;dbl&gt; | B &lt;dbl&gt; |\n|---|---|---|---|---|---|---|---|---|\n| NOCT |  2.870218 |  2.494252 |  3.246185 | 4.385650 |  15.66497 | 4.579130e-15 | 1.276890e-10 | 23.62645 |\n| GIMAP8 | -2.795197 | -3.175617 | -2.414776 | 4.031562 | -15.07691 | 1.160365e-14 | 1.617840e-10 | 23.05287 |\n| SLC7A5 |  3.127841 |  2.665855 |  3.589827 | 6.541467 |  13.89248 | 8.265510e-14 | 7.682792e-10 | 21.46934 |\n| RELB |  2.404354 |  2.030886 |  2.777822 | 5.611069 |  13.21018 | 2.717237e-13 | 1.894254e-09 | 20.27476 |\n| LDLR |  2.325155 |  1.955255 |  2.695055 | 6.822656 |  12.89825 | 4.754226e-13 | 2.651432e-09 | 19.83515 |\n| GABARAPL1 |  1.989754 |  1.660425 |  2.319082 | 6.442129 |  12.39749 | 1.191889e-12 | 5.491262e-09 | 18.93690 |\n\n",
            "text/latex": "A data.frame: 6 × 8\n\\begin{tabular}{r|llllllll}\n  & logFC & CI.L & CI.R & AveExpr & t & P.Value & adj.P.Val & B\\\\\n  & <dbl> & <dbl> & <dbl> & <dbl> & <dbl> & <dbl> & <dbl> & <dbl>\\\\\n\\hline\n\tNOCT &  2.870218 &  2.494252 &  3.246185 & 4.385650 &  15.66497 & 4.579130e-15 & 1.276890e-10 & 23.62645\\\\\n\tGIMAP8 & -2.795197 & -3.175617 & -2.414776 & 4.031562 & -15.07691 & 1.160365e-14 & 1.617840e-10 & 23.05287\\\\\n\tSLC7A5 &  3.127841 &  2.665855 &  3.589827 & 6.541467 &  13.89248 & 8.265510e-14 & 7.682792e-10 & 21.46934\\\\\n\tRELB &  2.404354 &  2.030886 &  2.777822 & 5.611069 &  13.21018 & 2.717237e-13 & 1.894254e-09 & 20.27476\\\\\n\tLDLR &  2.325155 &  1.955255 &  2.695055 & 6.822656 &  12.89825 & 4.754226e-13 & 2.651432e-09 & 19.83515\\\\\n\tGABARAPL1 &  1.989754 &  1.660425 &  2.319082 & 6.442129 &  12.39749 & 1.191889e-12 & 5.491262e-09 & 18.93690\\\\\n\\end{tabular}\n",
            "text/plain": [
              "          logFC     CI.L      CI.R      AveExpr  t         P.Value     \n",
              "NOCT       2.870218  2.494252  3.246185 4.385650  15.66497 4.579130e-15\n",
              "GIMAP8    -2.795197 -3.175617 -2.414776 4.031562 -15.07691 1.160365e-14\n",
              "SLC7A5     3.127841  2.665855  3.589827 6.541467  13.89248 8.265510e-14\n",
              "RELB       2.404354  2.030886  2.777822 5.611069  13.21018 2.717237e-13\n",
              "LDLR       2.325155  1.955255  2.695055 6.822656  12.89825 4.754226e-13\n",
              "GABARAPL1  1.989754  1.660425  2.319082 6.442129  12.39749 1.191889e-12\n",
              "          adj.P.Val    B       \n",
              "NOCT      1.276890e-10 23.62645\n",
              "GIMAP8    1.617840e-10 23.05287\n",
              "SLC7A5    7.682792e-10 21.46934\n",
              "RELB      1.894254e-09 20.27476\n",
              "LDLR      2.651432e-09 19.83515\n",
              "GABARAPL1 5.491262e-09 18.93690"
            ]
          },
          "metadata": {}
        },
        {
          "output_type": "display_data",
          "data": {
            "text/html": [
              "<table class=\"dataframe\">\n",
              "<caption>A data.frame: 6 × 8</caption>\n",
              "<thead>\n",
              "\t<tr><th></th><th scope=col>logFC</th><th scope=col>CI.L</th><th scope=col>CI.R</th><th scope=col>AveExpr</th><th scope=col>t</th><th scope=col>P.Value</th><th scope=col>adj.P.Val</th><th scope=col>B</th></tr>\n",
              "\t<tr><th></th><th scope=col>&lt;dbl&gt;</th><th scope=col>&lt;dbl&gt;</th><th scope=col>&lt;dbl&gt;</th><th scope=col>&lt;dbl&gt;</th><th scope=col>&lt;dbl&gt;</th><th scope=col>&lt;dbl&gt;</th><th scope=col>&lt;dbl&gt;</th><th scope=col>&lt;dbl&gt;</th></tr>\n",
              "</thead>\n",
              "<tbody>\n",
              "\t<tr><th scope=row>GIMAP8</th><td>-3.303941</td><td>-3.643868</td><td>-2.964014</td><td>4.031562</td><td>-19.94393</td><td>1.124041e-17</td><td>3.134388e-13</td><td>29.83017</td></tr>\n",
              "\t<tr><th scope=row>SH2D3C</th><td>-1.938040</td><td>-2.194440</td><td>-1.681640</td><td>4.726997</td><td>-15.50987</td><td>5.835617e-15</td><td>4.463090e-11</td><td>24.14655</td></tr>\n",
              "\t<tr><th scope=row>GIMAP4</th><td>-3.170917</td><td>-3.592000</td><td>-2.749835</td><td>5.492602</td><td>-15.45189</td><td>6.392476e-15</td><td>4.463090e-11</td><td>24.10923</td></tr>\n",
              "\t<tr><th scope=row>IRF2</th><td>-2.001990</td><td>-2.267861</td><td>-1.736119</td><td>5.268619</td><td>-15.45093</td><td>6.402137e-15</td><td>4.463090e-11</td><td>24.07053</td></tr>\n",
              "\t<tr><th scope=row>IL16</th><td>-1.777316</td><td>-2.026677</td><td>-1.527955</td><td>6.887450</td><td>-14.62515</td><td>2.417799e-14</td><td>1.006876e-10</td><td>22.83358</td></tr>\n",
              "\t<tr><th scope=row>DUSP8</th><td> 3.465465</td><td> 2.982644</td><td> 3.948286</td><td>5.561566</td><td> 14.72783</td><td>2.043034e-14</td><td>1.006876e-10</td><td>22.79152</td></tr>\n",
              "</tbody>\n",
              "</table>\n"
            ],
            "text/markdown": "\nA data.frame: 6 × 8\n\n| <!--/--> | logFC &lt;dbl&gt; | CI.L &lt;dbl&gt; | CI.R &lt;dbl&gt; | AveExpr &lt;dbl&gt; | t &lt;dbl&gt; | P.Value &lt;dbl&gt; | adj.P.Val &lt;dbl&gt; | B &lt;dbl&gt; |\n|---|---|---|---|---|---|---|---|---|\n| GIMAP8 | -3.303941 | -3.643868 | -2.964014 | 4.031562 | -19.94393 | 1.124041e-17 | 3.134388e-13 | 29.83017 |\n| SH2D3C | -1.938040 | -2.194440 | -1.681640 | 4.726997 | -15.50987 | 5.835617e-15 | 4.463090e-11 | 24.14655 |\n| GIMAP4 | -3.170917 | -3.592000 | -2.749835 | 5.492602 | -15.45189 | 6.392476e-15 | 4.463090e-11 | 24.10923 |\n| IRF2 | -2.001990 | -2.267861 | -1.736119 | 5.268619 | -15.45093 | 6.402137e-15 | 4.463090e-11 | 24.07053 |\n| IL16 | -1.777316 | -2.026677 | -1.527955 | 6.887450 | -14.62515 | 2.417799e-14 | 1.006876e-10 | 22.83358 |\n| DUSP8 |  3.465465 |  2.982644 |  3.948286 | 5.561566 |  14.72783 | 2.043034e-14 | 1.006876e-10 | 22.79152 |\n\n",
            "text/latex": "A data.frame: 6 × 8\n\\begin{tabular}{r|llllllll}\n  & logFC & CI.L & CI.R & AveExpr & t & P.Value & adj.P.Val & B\\\\\n  & <dbl> & <dbl> & <dbl> & <dbl> & <dbl> & <dbl> & <dbl> & <dbl>\\\\\n\\hline\n\tGIMAP8 & -3.303941 & -3.643868 & -2.964014 & 4.031562 & -19.94393 & 1.124041e-17 & 3.134388e-13 & 29.83017\\\\\n\tSH2D3C & -1.938040 & -2.194440 & -1.681640 & 4.726997 & -15.50987 & 5.835617e-15 & 4.463090e-11 & 24.14655\\\\\n\tGIMAP4 & -3.170917 & -3.592000 & -2.749835 & 5.492602 & -15.45189 & 6.392476e-15 & 4.463090e-11 & 24.10923\\\\\n\tIRF2 & -2.001990 & -2.267861 & -1.736119 & 5.268619 & -15.45093 & 6.402137e-15 & 4.463090e-11 & 24.07053\\\\\n\tIL16 & -1.777316 & -2.026677 & -1.527955 & 6.887450 & -14.62515 & 2.417799e-14 & 1.006876e-10 & 22.83358\\\\\n\tDUSP8 &  3.465465 &  2.982644 &  3.948286 & 5.561566 &  14.72783 & 2.043034e-14 & 1.006876e-10 & 22.79152\\\\\n\\end{tabular}\n",
            "text/plain": [
              "       logFC     CI.L      CI.R      AveExpr  t         P.Value     \n",
              "GIMAP8 -3.303941 -3.643868 -2.964014 4.031562 -19.94393 1.124041e-17\n",
              "SH2D3C -1.938040 -2.194440 -1.681640 4.726997 -15.50987 5.835617e-15\n",
              "GIMAP4 -3.170917 -3.592000 -2.749835 5.492602 -15.45189 6.392476e-15\n",
              "IRF2   -2.001990 -2.267861 -1.736119 5.268619 -15.45093 6.402137e-15\n",
              "IL16   -1.777316 -2.026677 -1.527955 6.887450 -14.62515 2.417799e-14\n",
              "DUSP8   3.465465  2.982644  3.948286 5.561566  14.72783 2.043034e-14\n",
              "       adj.P.Val    B       \n",
              "GIMAP8 3.134388e-13 29.83017\n",
              "SH2D3C 4.463090e-11 24.14655\n",
              "GIMAP4 4.463090e-11 24.10923\n",
              "IRF2   4.463090e-11 24.07053\n",
              "IL16   1.006876e-10 22.83358\n",
              "DUSP8  1.006876e-10 22.79152"
            ]
          },
          "metadata": {}
        }
      ]
    },
    {
      "cell_type": "markdown",
      "source": [
        "# Report the result as a table. \n",
        "After running this block, you can see the report files on the left panel. You can download them through your browser. "
      ],
      "metadata": {
        "id": "AdbkT_0_IK0g"
      }
    },
    {
      "cell_type": "code",
      "source": [
        "## When you have a multiple list for comparison, you can change the following two lines, and repeat this block for multiple DEG report.\n",
        "total_list <- list_patient\n",
        "filename_out <- 'Patient-vs-Control'\n",
        "##\n",
        "\n",
        "## Condition to call DEG: here we use adj.P.Value < 0.05 and FC > 2\n",
        "DE_keep <- total_list$adj.P.Val < 0.05 & abs(total_list$logFC) >= 1\n",
        "DE_list <- total_list[DE_keep,]\n",
        "\n",
        "## This is the list of all results\n",
        "filename_all <- paste(filename_out, 'limma_all.txt', sep='.')\n",
        "write.table(total_list, filename_all, sep='\\t')\n",
        "\n",
        "## This is the list of only-DEG results\n",
        "filename_DE <- paste(filename_out, 'limma_DE.txt', sep='.')\n",
        "write.table(DE_list, filename_DE, sep='\\t')\n",
        "\n",
        "## This is the list of CPM results (it would be different to TPM and other values, becuase it is estimated by limma from the counts you provide)\n",
        "filename_cpm <- paste(filename_out, 'abundance.txt', sep='.')\n",
        "write.table(txi$abundance, filename_cpm, sep='\\t')"
      ],
      "metadata": {
        "id": "cTe8AlNfIPoU"
      },
      "execution_count": 22,
      "outputs": []
    }
  ]
}